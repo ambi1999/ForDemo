{
 "cells": [
  {
   "cell_type": "code",
   "execution_count": 9,
   "metadata": {},
   "outputs": [
    {
     "name": "stdout",
     "output_type": "stream",
     "text": [
      "filesize_sparseArray1 in bytes 1600162\n",
      "filesize_sparse_csr_matrix1 in bytes 442409\n",
      "3.638939993132196\n"
     ]
    }
   ],
   "source": [
    "#!/usr/bin/env python3\n",
    "# -*- coding: utf-8 -*-\n",
    "\"\"\"\n",
    "@author: Dr Ambikesh Jayal, ambi1999@gmail.com\n",
    "\n",
    "This code shows the storage saved by converting array into sparse matrix \n",
    "if lot of entries in the array are zeros.\n",
    "\"\"\"\n",
    "\n",
    "# Save a dictionary into a pickle file.\n",
    "import pickle\n",
    "import numpy as np\n",
    "import scipy.sparse as sparse\n",
    "# import stats\n",
    "from random import choices\n",
    "import os\n",
    "\n",
    "\n",
    "# set random seed to repeat\n",
    "#np.random.seed(42)\n",
    "\n",
    "#Create a list with 90% values as 0, and 10 % values as 1\n",
    "population = [0,1]\n",
    "weights = [0.9, 0.1]\n",
    "list1=choices(population, weights, k =2000)\n",
    "\n",
    "#create a bigger list to see more efficiency by using sparse matrix\n",
    "list1=choices(population, weights, k =200000)\n",
    "\n",
    "sparseArray1=np.array(list1).reshape(-1,4)\n",
    "sparse_csr_matrix1 = sparse.csr_matrix(sparseArray1)\n",
    "\n",
    "#Serialize the array and the sparse matrix into file, observe the file size.\n",
    "# You will note that the size of file sparse_csr_matrix1.p is much less than the \n",
    "#size of sparseArray1.p implying that the sparse matrix takes much less space in \n",
    "#the memory.\n",
    "pickle.dump( sparseArray1, open( \"sparseArray1.p\", \"wb\" ) )\n",
    "pickle.dump( sparse_csr_matrix1, open( \"sparse_csr_matrix1.p\", \"wb\" ) )\n",
    "\n",
    "filesize_sparseArray1=os.path.getsize('sparseArray1.p')\n",
    "filesize_sparse_csr_matrix1=os.path.getsize('sparse_csr_matrix1.p')\n",
    "\n",
    "diff_in_sze=filesize_sparseArray1/filesize_sparse_csr_matrix1\n",
    "\n",
    "#Read back the objects from file\n",
    "sparseArray1_new=pickle.load(open(\"sparseArray1.p\", \"rb\"))\n",
    "sparse_csr_matrix1_new=pickle.load(open(\"sparse_csr_matrix1.p\", \"rb\"))\n",
    "\n",
    "print(\"filesize_sparseArray1 in bytes\",filesize_sparseArray1)\n",
    "print(\"filesize_sparse_csr_matrix1 in bytes\",filesize_sparse_csr_matrix1)\n",
    "print(diff_in_size)\n",
    "\n"
   ]
  },
  {
   "cell_type": "code",
   "execution_count": null,
   "metadata": {},
   "outputs": [],
   "source": []
  }
 ],
 "metadata": {
  "kernelspec": {
   "display_name": "Python 3",
   "language": "python",
   "name": "python3"
  },
  "language_info": {
   "codemirror_mode": {
    "name": "ipython",
    "version": 3
   },
   "file_extension": ".py",
   "mimetype": "text/x-python",
   "name": "python",
   "nbconvert_exporter": "python",
   "pygments_lexer": "ipython3",
   "version": "3.8.5"
  }
 },
 "nbformat": 4,
 "nbformat_minor": 4
}
