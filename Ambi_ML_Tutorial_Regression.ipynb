{
  "nbformat": 4,
  "nbformat_minor": 0,
  "metadata": {
    "kernelspec": {
      "display_name": "Python 3",
      "language": "python",
      "name": "python3"
    },
    "language_info": {
      "codemirror_mode": {
        "name": "ipython",
        "version": 3
      },
      "file_extension": ".py",
      "mimetype": "text/x-python",
      "name": "python",
      "nbconvert_exporter": "python",
      "pygments_lexer": "ipython3",
      "version": "3.8.5"
    },
    "colab": {
      "name": "Ambi_ML_Tutorial_Regression.ipynb",
      "provenance": [],
      "collapsed_sections": []
    }
  },
  "cells": [
    {
      "cell_type": "markdown",
      "metadata": {
        "id": "fB2cX7Dq-_fA"
      },
      "source": [
        "# Tutorial for Simple Regression Model\n",
        "Author: Dr Ambikesh Jayal, ajayal@cardiffmet.ac.uk\n",
        "Web: https://sites.google.com/site/ambi1999/main\n",
        "Github: https://github.com/ambi1999\n",
        "\n",
        "**Code used in tutorial is available from link below:**\n",
        "\n",
        "https://colab.research.google.com/drive/1QPoEStBQf8R6hS0pAorbHUSSS4VFbGtA?usp=sharing\n",
        "\n",
        "# **Step 1:** Reading data using Pandas dataframe\n",
        "# **Step 2:** Data Cleaning\n",
        "# **Step 3:** Data Exploration\n",
        "# **Step 4:** Feature Selection\n",
        "# **Step 5:** Split into Training and Testing set \n",
        "# **Step 5:** Build Model\n",
        "# **Step 6:** Check performance of the model on testing and traning set \n",
        "(Please note that the performance will always be higher in training set, the real measure of is performance of model in testing set)\n",
        "\n",
        "\n",
        "# Below are some useful links\n",
        "\n",
        "# 1. Pands Cheatsheet: https://pandas.pydata.org/Pandas_Cheat_Sheet.pdf\n",
        "2. Details about Pandas: https://pandas.pydata.org/docs/user_guide/index.html\n",
        "3. Details about RandomForestRegressor used in regression\n",
        "https://scikit-learn.org/stable/modules/generated/sklearn.ensemble.RandomForestRegressor.html\n",
        "4. Details about RandomForestClassifier used in classification\n",
        "https://scikit-learn.org/stable/modules/generated/sklearn.ensemble.RandomForestClassifier.html\n",
        "5. View .dot tree file at https://dreampuf.github.io/GraphvizOnline\n",
        "6. Boston Housing Data Set\n",
        "https://www.cs.toronto.edu/~delve/data/boston/bostonDetail.html"
      ]
    },
    {
      "cell_type": "code",
      "metadata": {
        "id": "MwLwr_IJ-_fP",
        "colab": {
          "base_uri": "https://localhost:8080/"
        },
        "outputId": "868e4269-55a3-4e0d-b8a1-0f746c76494a"
      },
      "source": [
        "# Pandas is used for data manipulation\n",
        "import pandas as pd\n",
        "import numpy as np\n",
        "\n",
        "#Reading data from url\n",
        "url=\"https://raw.githubusercontent.com/ambi1999/mldataset/main/Boston_housing_dataset_generic_modified_by_ambi/boston_housing_dataset_generic_modified_by_ambi.csv\"\n",
        "df = pd.read_csv(url)\n",
        "\n",
        "#Reading data from csv, replace the mydata.csv with the full path name of your data file\n",
        "#df=pd.read_csv(\"mydata.csv\")\n",
        "\n",
        "print(type(df))\n",
        "print(df)"
      ],
      "execution_count": null,
      "outputs": [
        {
          "output_type": "stream",
          "text": [
            "<class 'pandas.core.frame.DataFrame'>\n",
            "        CRIM    ZN  INDUS  CHAS  ...  greenarea  internetfacility  MDEV  investmentrisk\n",
            "0    0.00632  18.0   2.31     0  ...        low       fiberoptics  24.0          medium\n",
            "1    0.02731   0.0   7.07     0  ...     medium       fiberoptics  21.6          medium\n",
            "2    0.02729   0.0   7.07     0  ...       high             cable  34.7            high\n",
            "3    0.03237   0.0   2.18     0  ...       high             cable  33.4            high\n",
            "4    0.06905   0.0   2.18     0  ...        low             cable  36.2            high\n",
            "..       ...   ...    ...   ...  ...        ...               ...   ...             ...\n",
            "447  0.06263   0.0  11.93     0  ...       high             cable  22.4          medium\n",
            "448  0.04527   0.0  11.93     0  ...       high             cable  20.6          medium\n",
            "449  0.06076   0.0  11.93     0  ...        low             cable  23.9          medium\n",
            "450  0.10959   0.0  11.93     0  ...        low       fiberoptics  22.0          medium\n",
            "451  0.04741   0.0  11.93     0  ...     medium       fiberoptics  11.9             low\n",
            "\n",
            "[452 rows x 17 columns]\n"
          ],
          "name": "stdout"
        }
      ]
    },
    {
      "cell_type": "code",
      "metadata": {
        "colab": {
          "base_uri": "https://localhost:8080/"
        },
        "id": "IUil2XNaaBcg",
        "outputId": "f96e85dc-58c6-47e2-c6dc-d09740389a6e"
      },
      "source": [
        "df.info()\n",
        "print(df.columns)\n",
        "print(df.index)\n",
        "print(df.values)"
      ],
      "execution_count": null,
      "outputs": [
        {
          "output_type": "stream",
          "text": [
            "<class 'pandas.core.frame.DataFrame'>\n",
            "RangeIndex: 452 entries, 0 to 451\n",
            "Data columns (total 17 columns):\n",
            " #   Column            Non-Null Count  Dtype  \n",
            "---  ------            --------------  -----  \n",
            " 0   CRIM              452 non-null    float64\n",
            " 1   ZN                452 non-null    float64\n",
            " 2   INDUS             452 non-null    float64\n",
            " 3   CHAS              452 non-null    int64  \n",
            " 4   NOX               452 non-null    float64\n",
            " 5   RM                452 non-null    float64\n",
            " 6   AGE               452 non-null    float64\n",
            " 7   DIS               452 non-null    float64\n",
            " 8   RAD               452 non-null    int64  \n",
            " 9   TAX               452 non-null    int64  \n",
            " 10  PTRATIO           452 non-null    float64\n",
            " 11  B                 452 non-null    float64\n",
            " 12  LSTAT             452 non-null    float64\n",
            " 13  greenarea         452 non-null    object \n",
            " 14  internetfacility  452 non-null    object \n",
            " 15  MDEV              452 non-null    float64\n",
            " 16  investmentrisk    452 non-null    object \n",
            "dtypes: float64(11), int64(3), object(3)\n",
            "memory usage: 60.2+ KB\n",
            "Index(['CRIM', 'ZN', 'INDUS', 'CHAS', 'NOX', 'RM', 'AGE', 'DIS', 'RAD', 'TAX',\n",
            "       'PTRATIO', 'B', 'LSTAT', 'greenarea', 'internetfacility', 'MDEV',\n",
            "       'investmentrisk'],\n",
            "      dtype='object')\n",
            "RangeIndex(start=0, stop=452, step=1)\n",
            "[[0.00632 18.0 2.31 ... 'fiberoptics' 24.0 'medium']\n",
            " [0.02731 0.0 7.07 ... 'fiberoptics' 21.6 'medium']\n",
            " [0.02729 0.0 7.07 ... 'cable' 34.7 'high']\n",
            " ...\n",
            " [0.06076 0.0 11.93 ... 'cable' 23.9 'medium']\n",
            " [0.10959 0.0 11.93 ... 'fiberoptics' 22.0 'medium']\n",
            " [0.04741 0.0 11.93 ... 'fiberoptics' 11.9 'low']]\n"
          ],
          "name": "stdout"
        }
      ]
    },
    {
      "cell_type": "code",
      "metadata": {
        "colab": {
          "base_uri": "https://localhost:8080/"
        },
        "id": "mEEXBeeIR77_",
        "outputId": "b1f19602-af8e-4cd0-d6da-9f2dbea34e6c"
      },
      "source": [
        "#Data Cleaning\n",
        "\n",
        "# Count number of missing values in each column\n",
        "print(df.isnull().sum())\n",
        "\n",
        "#Drop rows with missing values\n",
        "df = df.dropna(axis=0)\n",
        "\n"
      ],
      "execution_count": null,
      "outputs": [
        {
          "output_type": "stream",
          "text": [
            "CRIM                0\n",
            "ZN                  0\n",
            "INDUS               0\n",
            "CHAS                0\n",
            "NOX                 0\n",
            "RM                  0\n",
            "AGE                 0\n",
            "DIS                 0\n",
            "RAD                 0\n",
            "TAX                 0\n",
            "PTRATIO             0\n",
            "B                   0\n",
            "LSTAT               0\n",
            "greenarea           0\n",
            "internetfacility    0\n",
            "MDEV                0\n",
            "investmentrisk      0\n",
            "dtype: int64\n"
          ],
          "name": "stdout"
        }
      ]
    },
    {
      "cell_type": "code",
      "metadata": {
        "colab": {
          "base_uri": "https://localhost:8080/",
          "height": 1000
        },
        "id": "WKIIIRsYaV45",
        "outputId": "a8887885-b527-43be-dd09-41de59828ee7"
      },
      "source": [
        "#Data Exploration\n",
        "\n",
        "print(df.describe())\n",
        "\n",
        "#df.hist()\n",
        "\n",
        "df.boxplot()\n",
        "\n",
        "df.hist()\n"
      ],
      "execution_count": null,
      "outputs": [
        {
          "output_type": "stream",
          "text": [
            "             CRIM          ZN       INDUS  ...           B       LSTAT        MDEV\n",
            "count  452.000000  452.000000  452.000000  ...  452.000000  452.000000  452.000000\n",
            "mean     1.420825   12.721239   10.304889  ...  369.826504   11.441881   23.750442\n",
            "std      2.495894   24.326032    6.797103  ...   68.554439    6.156437    8.808602\n",
            "min      0.006320    0.000000    0.460000  ...    0.320000    1.730000    6.300000\n",
            "25%      0.069875    0.000000    4.930000  ...  377.717500    6.587500   18.500000\n",
            "50%      0.191030    0.000000    8.140000  ...  392.080000   10.250000   21.950000\n",
            "75%      1.211460   20.000000   18.100000  ...  396.157500   15.105000   26.600000\n",
            "max      9.966540  100.000000   27.740000  ...  396.900000   34.410000   50.000000\n",
            "\n",
            "[8 rows x 14 columns]\n"
          ],
          "name": "stdout"
        },
        {
          "output_type": "execute_result",
          "data": {
            "text/plain": [
              "array([[<matplotlib.axes._subplots.AxesSubplot object at 0x7fd8f7355e50>,\n",
              "        <matplotlib.axes._subplots.AxesSubplot object at 0x7fd8f730c790>,\n",
              "        <matplotlib.axes._subplots.AxesSubplot object at 0x7fd8f72c2e10>,\n",
              "        <matplotlib.axes._subplots.AxesSubplot object at 0x7fd8f72844d0>],\n",
              "       [<matplotlib.axes._subplots.AxesSubplot object at 0x7fd8f7239b50>,\n",
              "        <matplotlib.axes._subplots.AxesSubplot object at 0x7fd8f71fd210>,\n",
              "        <matplotlib.axes._subplots.AxesSubplot object at 0x7fd8f71b0910>,\n",
              "        <matplotlib.axes._subplots.AxesSubplot object at 0x7fd8f7168ed0>],\n",
              "       [<matplotlib.axes._subplots.AxesSubplot object at 0x7fd8f7168f10>,\n",
              "        <matplotlib.axes._subplots.AxesSubplot object at 0x7fd8f7128650>,\n",
              "        <matplotlib.axes._subplots.AxesSubplot object at 0x7fd8f70a0290>,\n",
              "        <matplotlib.axes._subplots.AxesSubplot object at 0x7fd8f70d4910>],\n",
              "       [<matplotlib.axes._subplots.AxesSubplot object at 0x7fd8f708bf90>,\n",
              "        <matplotlib.axes._subplots.AxesSubplot object at 0x7fd8f704c650>,\n",
              "        <matplotlib.axes._subplots.AxesSubplot object at 0x7fd8f7000cd0>,\n",
              "        <matplotlib.axes._subplots.AxesSubplot object at 0x7fd8f6fc4390>]],\n",
              "      dtype=object)"
            ]
          },
          "metadata": {
            "tags": []
          },
          "execution_count": 4
        },
        {
          "output_type": "display_data",
          "data": {
            "image/png": "[encoded data removed]",
            "text/plain": [
              "<Figure size 432x288 with 1 Axes>"
            ]
          },
          "metadata": {
            "tags": [],
            "needs_background": "light"
          }
        },
        {
          "output_type": "display_data",
          "data": {
            "image/png": "[encoded data removed]",
            "text/plain": [
              "<Figure size 432x288 with 16 Axes>"
            ]
          },
          "metadata": {
            "tags": [],
            "needs_background": "light"
          }
        }
      ]
    },
    {
      "cell_type": "code",
      "metadata": {
        "colab": {
          "base_uri": "https://localhost:8080/",
          "height": 592
        },
        "id": "98jUut-BakmN",
        "outputId": "656a700d-0e1f-4eba-cb22-14402226c31b"
      },
      "source": [
        "#Data Exploration\n",
        "import seaborn as sns\n",
        "\n",
        "print(df.corr())\n",
        "correlationMatrix=df.corr(method='pearson')\n",
        "ax = sns.heatmap(\n",
        "    correlationMatrix, \n",
        "    vmin=-1, vmax=1, center=0,\n",
        "    cmap=sns.diverging_palette(0, 250, n=50),\n",
        "    square=True\n",
        ")\n",
        "ax.set_xticklabels(\n",
        "    ax.get_xticklabels(),\n",
        "    rotation=50,\n",
        "    horizontalalignment='right'\n",
        ");"
      ],
      "execution_count": null,
      "outputs": [
        {
          "output_type": "stream",
          "text": [
            "             CRIM        ZN     INDUS  ...         B     LSTAT      MDEV\n",
            "CRIM     1.000000 -0.281239  0.573822  ... -0.413014  0.424789 -0.286245\n",
            "ZN      -0.281239  1.000000 -0.514273  ...  0.150380 -0.411165  0.331570\n",
            "INDUS    0.573822 -0.514273  1.000000  ... -0.316752  0.565402 -0.411915\n",
            "CHAS     0.050066 -0.059697  0.103016  ...  0.013415 -0.009430  0.154409\n",
            "NOX      0.636941 -0.500729  0.738517  ... -0.358433  0.536824 -0.332778\n",
            "RM      -0.142458  0.306623 -0.364895  ...  0.108352 -0.607289  0.740181\n",
            "AGE      0.447664 -0.555679  0.605982  ... -0.223765  0.573266 -0.299893\n",
            "DIS     -0.461967  0.656152 -0.669362  ...  0.234449 -0.423725  0.138798\n",
            "RAD      0.897988 -0.266606  0.513306  ... -0.352586  0.309788 -0.217902\n",
            "TAX      0.825668 -0.269446  0.673312  ... -0.367084  0.410927 -0.345898\n",
            "PTRATIO  0.319470 -0.364122  0.317336  ... -0.089609  0.303043 -0.461214\n",
            "B       -0.413014  0.150380 -0.316752  ...  1.000000 -0.291094  0.264797\n",
            "LSTAT    0.424789 -0.411165  0.565402  ... -0.291094  1.000000 -0.706255\n",
            "MDEV    -0.286245  0.331570 -0.411915  ...  0.264797 -0.706255  1.000000\n",
            "\n",
            "[14 rows x 14 columns]\n"
          ],
          "name": "stdout"
        },
        {
          "output_type": "display_data",
          "data": {
            "image/png": "[encoded data removed]",
            "text/plain": [
              "<Figure size 432x288 with 2 Axes>"
            ]
          },
          "metadata": {
            "tags": [],
            "needs_background": "light"
          }
        }
      ]
    },
    {
      "cell_type": "code",
      "metadata": {
        "id": "tlgj8qEaB2XD",
        "colab": {
          "base_uri": "https://localhost:8080/"
        },
        "outputId": "8edf8760-ae18-45b3-d945-07d7e52805c0"
      },
      "source": [
        "#Feature Selection\n",
        "\n",
        "#Create separate dataframe for all independed varialbes\n",
        "#independent_variables=['CRIM', 'ZN', 'INDUS', 'CHAS', 'NOX', 'RM', 'AGE', 'DIS', 'RAD', 'TAX', 'PTRATIO', 'B', 'LSTAT', 'greenarea', 'internetfacility', 'MDEV', 'investmentrisk']\n",
        "independent_variables=['CRIM', 'ZN', 'INDUS', 'CHAS', 'NOX', 'RM', 'AGE', 'DIS', 'RAD', 'TAX', 'PTRATIO','B', 'LSTAT' ]\n",
        "X = df[independent_variables]\n",
        "\n",
        "print(type(X))\n",
        "print(X)\n",
        "\n",
        "#Create a Series for the target variable that we want to predict.\n",
        "#Note: For Regression problems, target variable will be a continuous variable such as MDEV\n",
        "#Note: For Classification problems, target variable will be a categorical variable such as investmentrisk\n",
        "target_variable='MDEV'\n",
        "y=df[target_variable]\n",
        "\n",
        "print(type(y))\n",
        "print(y)\n",
        "\n",
        "# Convert to numpy array\n",
        "X_numpy = np.array(X)\n",
        "y_numpy=np.array(y)\n",
        "\n",
        "print(type(X_numpy))\n",
        "print(type(y_numpy))"
      ],
      "execution_count": null,
      "outputs": [
        {
          "output_type": "stream",
          "text": [
            "<class 'pandas.core.frame.DataFrame'>\n",
            "        CRIM    ZN  INDUS  CHAS    NOX  ...  RAD  TAX  PTRATIO       B  LSTAT\n",
            "0    0.00632  18.0   2.31     0  0.538  ...    1  296     15.3  396.90   4.98\n",
            "1    0.02731   0.0   7.07     0  0.469  ...    2  242     17.8  396.90   9.14\n",
            "2    0.02729   0.0   7.07     0  0.469  ...    2  242     17.8  392.83   4.03\n",
            "3    0.03237   0.0   2.18     0  0.458  ...    3  222     18.7  394.63   2.94\n",
            "4    0.06905   0.0   2.18     0  0.458  ...    3  222     18.7  396.90   5.33\n",
            "..       ...   ...    ...   ...    ...  ...  ...  ...      ...     ...    ...\n",
            "447  0.06263   0.0  11.93     0  0.573  ...    1  273     21.0  391.99   9.67\n",
            "448  0.04527   0.0  11.93     0  0.573  ...    1  273     21.0  396.90   9.08\n",
            "449  0.06076   0.0  11.93     0  0.573  ...    1  273     21.0  396.90   5.64\n",
            "450  0.10959   0.0  11.93     0  0.573  ...    1  273     21.0  393.45   6.48\n",
            "451  0.04741   0.0  11.93     0  0.573  ...    1  273     21.0  396.90   7.88\n",
            "\n",
            "[452 rows x 13 columns]\n",
            "<class 'pandas.core.series.Series'>\n",
            "0      24.0\n",
            "1      21.6\n",
            "2      34.7\n",
            "3      33.4\n",
            "4      36.2\n",
            "       ... \n",
            "447    22.4\n",
            "448    20.6\n",
            "449    23.9\n",
            "450    22.0\n",
            "451    11.9\n",
            "Name: MDEV, Length: 452, dtype: float64\n",
            "<class 'numpy.ndarray'>\n",
            "<class 'numpy.ndarray'>\n"
          ],
          "name": "stdout"
        }
      ]
    },
    {
      "cell_type": "code",
      "metadata": {
        "id": "8z6XdDLH-_fV"
      },
      "source": [
        "#Data Splitting\n",
        "from sklearn.model_selection import train_test_split\n",
        "X_train, X_test, y_train, y_test = train_test_split(X_numpy, y_numpy, test_size=0.2, random_state=1)\n",
        "#X_train, X_val, y_train, y_val = train_test_split(X_train, y_train, test_size=0.2, random_state=1)\n"
      ],
      "execution_count": null,
      "outputs": []
    },
    {
      "cell_type": "code",
      "metadata": {
        "id": "e55tR1uC-_fW",
        "colab": {
          "base_uri": "https://localhost:8080/"
        },
        "outputId": "c57c178c-1f82-42af-ec82-3a53542c5d13"
      },
      "source": [
        "from sklearn.ensemble import RandomForestRegressor\n",
        "\n",
        "num_trees=5\n",
        "dt_model = RandomForestRegressor(random_state=1, max_depth= 12, max_samples=300, max_features=7, n_estimators=num_trees)\n",
        "\n",
        "#Fit RandomForestRegressor model\n",
        "dt_model.fit(X_train, y_train)\n",
        "\n",
        "print(\"Making predictions for the following in train set:\")\n",
        "predicted_values=dt_model.predict(X_train[0:10,:])\n",
        "true_values=y_train[0:10]\n",
        "print(\"True values are \",true_values)\n",
        "print(\"The predicted values are\", predicted_values)\n",
        "print(\"Diff\", predicted_values-true_values)\n",
        "\n",
        "\n",
        "print(\"Making predictions for the following in testing set:\")\n",
        "predicted_values=dt_model.predict(X_test[0:10,:])\n",
        "true_values=y_test[0:10]\n",
        "print(\"True values are \",true_values)\n",
        "print(\"The predicted values are\", predicted_values)\n",
        "print(\"Diff\", predicted_values-true_values)\n"
      ],
      "execution_count": null,
      "outputs": [
        {
          "output_type": "stream",
          "text": [
            "Making predictions for the following in train set:\n",
            "True values are  [24.4 26.5 13.1 20.6 24.3 28.  20.  26.2 19.2 26.6]\n",
            "The predicted values are [24.438      25.348      14.78       13.64       22.14285714 24.03076923\n",
            " 19.98475    25.42       19.27446429 26.42      ]\n",
            "Diff [ 0.038      -1.152       1.68       -6.96       -2.15714286 -3.96923077\n",
            " -0.01525    -0.78        0.07446429 -0.18      ]\n",
            "Making predictions for the following in testing set:\n",
            "True values are  [22.5 12.1 23.5 30.3 24.4  7.  24.3 14.1 23.6 22.5]\n",
            "The predicted values are [20.66497436 11.32       26.93076923 32.32       21.42       14.70928571\n",
            " 20.48857143 13.62       25.51       25.22      ]\n",
            "Diff [-1.83502564 -0.78        3.43076923  2.02       -2.98        7.70928571\n",
            " -3.81142857 -0.48        1.91        2.72      ]\n"
          ],
          "name": "stdout"
        }
      ]
    },
    {
      "cell_type": "code",
      "metadata": {
        "colab": {
          "base_uri": "https://localhost:8080/"
        },
        "id": "49LwY1dueZSl",
        "outputId": "079024fb-d3ce-4bba-807b-a947ea11aca3"
      },
      "source": [
        "\n",
        "# Average training error\n",
        "dfTrain=y_train-dt_model.predict(X_train)\n",
        "print(\"Average Train error \", np.absolute(dfTrain).mean())\n",
        "\n",
        "# Average val error\n",
        "#dfVal=y_val-dt_model.predict(X_val)\n",
        "#print(\"Average val error \", dfVal.abs().mean())\n",
        "#print(\"Average val error \", np.absolute(dfVal).mean())\n",
        "\n",
        "# Average test error\n",
        "dfTest=y_test-dt_model.predict(X_test)\n",
        "print(\"Average test error \", np.absolute(dfTest).mean())"
      ],
      "execution_count": null,
      "outputs": [
        {
          "output_type": "stream",
          "text": [
            "Average Train error  1.160775527470737\n",
            "Average test error  2.823252026846241\n"
          ],
          "name": "stdout"
        }
      ]
    },
    {
      "cell_type": "code",
      "metadata": {
        "id": "ezwYSeT8-_fZ"
      },
      "source": [
        "from sklearn.tree import export_graphviz\n",
        "# Export as dot file\n",
        "\n",
        "fn=independent_variables\n",
        "\n",
        "for index in range(0, num_trees):\n",
        "    export_graphviz(dt_model.estimators_[index], out_file='tree'+str(index)+'_.dot', \n",
        "                feature_names = fn, \n",
        "                rounded = True, proportion = False, \n",
        "                precision = 2, filled = True)"
      ],
      "execution_count": null,
      "outputs": []
    }
  ]
}