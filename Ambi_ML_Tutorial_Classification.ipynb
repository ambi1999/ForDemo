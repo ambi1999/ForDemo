{
 "cells": [
  {
   "cell_type": "markdown",
   "metadata": {
    "id": "fB2cX7Dq-_fA"
   },
   "source": [
    "# Tutorial for Simple Classification Model\n",
    "Author: Dr Ambikesh Jayal, PhD, MSc, BSc, FEHA, MBCS\n",
    "Web: https://sites.google.com/site/ambi1999/main\n",
    "Github: https://github.com/ambi1999\n",
    "\n",
    "**Code used in tutorial is available from link below:**\n",
    "\n",
    "1. https://github.com/ambi1999/ForDemo/blob/main/Ambi_ML_Tutorial_Classification.ipynb\n",
    "2. https://colab.research.google.com/drive/1QPoEStBQf8R6hS0pAorbHUSSS4VFbGtA?usp=sharing\n",
    "\n",
    "# **Step 1:** Reading data using Pandas dataframe\n",
    "# **Step 2:** Data Cleaning\n",
    "# **Step 3:** Data Exploration\n",
    "# **Step 4:** Feature Selection\n",
    "# **Step 5:** Split into Training and Testing set \n",
    "# **Step 5:** Build Model\n",
    "# **Step 6:** Check performance of the model on testing and traning set \n",
    "(Please note that the performance will always be higher in training set, the real measure of is performance of model in testing set)\n",
    "\n",
    "\n",
    "# Below are some useful links\n",
    "\n",
    "# 1. Pands Cheatsheet: https://pandas.pydata.org/Pandas_Cheat_Sheet.pdf\n",
    "2. Details about Pandas: https://pandas.pydata.org/docs/user_guide/index.html\n",
    "3. Details about RandomForestRegressor used in regression\n",
    "https://scikit-learn.org/stable/modules/generated/sklearn.ensemble.RandomForestRegressor.html\n",
    "4. Details about RandomForestClassifier used in classification\n",
    "https://scikit-learn.org/stable/modules/generated/sklearn.ensemble.RandomForestClassifier.html\n",
    "5. View .dot tree file at https://dreampuf.github.io/GraphvizOnline"
   ]
  },
  {
   "cell_type": "code",
   "execution_count": 2,
   "metadata": {
    "colab": {
     "base_uri": "https://localhost:8080/"
    },
    "id": "MwLwr_IJ-_fP",
    "outputId": "e7411d0f-08e3-4f08-ef78-6aaebd8f651b"
   },
   "outputs": [
    {
     "name": "stdout",
     "output_type": "stream",
     "text": [
      "<class 'pandas.core.frame.DataFrame'>\n",
      "        CRIM    ZN  INDUS  CHAS    NOX     RM   AGE     DIS  RAD  TAX  \\\n",
      "0    0.00632  18.0   2.31     0  0.538  6.575  65.2  4.0900    1  296   \n",
      "1    0.02731   0.0   7.07     0  0.469  6.421  78.9  4.9671    2  242   \n",
      "2    0.02729   0.0   7.07     0  0.469  7.185  61.1  4.9671    2  242   \n",
      "3    0.03237   0.0   2.18     0  0.458  6.998  45.8  6.0622    3  222   \n",
      "4    0.06905   0.0   2.18     0  0.458  7.147  54.2  6.0622    3  222   \n",
      "..       ...   ...    ...   ...    ...    ...   ...     ...  ...  ...   \n",
      "447  0.06263   0.0  11.93     0  0.573  6.593  69.1  2.4786    1  273   \n",
      "448  0.04527   0.0  11.93     0  0.573  6.120  76.7  2.2875    1  273   \n",
      "449  0.06076   0.0  11.93     0  0.573  6.976  91.0  2.1675    1  273   \n",
      "450  0.10959   0.0  11.93     0  0.573  6.794  89.3  2.3889    1  273   \n",
      "451  0.04741   0.0  11.93     0  0.573  6.030  80.8  2.5050    1  273   \n",
      "\n",
      "     PTRATIO       B  LSTAT greenarea internetfacility  MDEV investmentrisk  \n",
      "0       15.3  396.90   4.98       low      fiberoptics  24.0         medium  \n",
      "1       17.8  396.90   9.14    medium      fiberoptics  21.6         medium  \n",
      "2       17.8  392.83   4.03      high            cable  34.7           high  \n",
      "3       18.7  394.63   2.94      high            cable  33.4           high  \n",
      "4       18.7  396.90   5.33       low            cable  36.2           high  \n",
      "..       ...     ...    ...       ...              ...   ...            ...  \n",
      "447     21.0  391.99   9.67      high            cable  22.4         medium  \n",
      "448     21.0  396.90   9.08      high            cable  20.6         medium  \n",
      "449     21.0  396.90   5.64       low            cable  23.9         medium  \n",
      "450     21.0  393.45   6.48       low      fiberoptics  22.0         medium  \n",
      "451     21.0  396.90   7.88    medium      fiberoptics  11.9            low  \n",
      "\n",
      "[452 rows x 17 columns]\n"
     ]
    }
   ],
   "source": [
    "# Pandas is used for data manipulation\n",
    "import pandas as pd\n",
    "import numpy as np\n",
    "\n",
    "#Reading data from url\n",
    "url=\"https://raw.githubusercontent.com/ambi1999/mldataset/main/Boston_housing_dataset_generic_modified_by_ambi/boston_housing_dataset_generic_modified_by_ambi.csv\"\n",
    "df = pd.read_csv(url)\n",
    "\n",
    "#Reading data from csv, replace the mydata.csv with the full path name of your data file\n",
    "#df=pd.read_csv(\"mydata.csv\")\n",
    "\n",
    "print(type(df))\n",
    "print(df)"
   ]
  },
  {
   "cell_type": "code",
   "execution_count": 3,
   "metadata": {
    "colab": {
     "base_uri": "https://localhost:8080/"
    },
    "id": "IUil2XNaaBcg",
    "outputId": "40e7d73c-b0d2-40ca-bb42-dc992c818c8b"
   },
   "outputs": [
    {
     "name": "stdout",
     "output_type": "stream",
     "text": [
      "<class 'pandas.core.frame.DataFrame'>\n",
      "RangeIndex: 452 entries, 0 to 451\n",
      "Data columns (total 17 columns):\n",
      " #   Column            Non-Null Count  Dtype  \n",
      "---  ------            --------------  -----  \n",
      " 0   CRIM              452 non-null    float64\n",
      " 1   ZN                452 non-null    float64\n",
      " 2   INDUS             452 non-null    float64\n",
      " 3   CHAS              452 non-null    int64  \n",
      " 4   NOX               452 non-null    float64\n",
      " 5   RM                452 non-null    float64\n",
      " 6   AGE               452 non-null    float64\n",
      " 7   DIS               452 non-null    float64\n",
      " 8   RAD               452 non-null    int64  \n",
      " 9   TAX               452 non-null    int64  \n",
      " 10  PTRATIO           452 non-null    float64\n",
      " 11  B                 452 non-null    float64\n",
      " 12  LSTAT             452 non-null    float64\n",
      " 13  greenarea         452 non-null    object \n",
      " 14  internetfacility  452 non-null    object \n",
      " 15  MDEV              452 non-null    float64\n",
      " 16  investmentrisk    452 non-null    object \n",
      "dtypes: float64(11), int64(3), object(3)\n",
      "memory usage: 60.2+ KB\n",
      "Index(['CRIM', 'ZN', 'INDUS', 'CHAS', 'NOX', 'RM', 'AGE', 'DIS', 'RAD', 'TAX',\n",
      "       'PTRATIO', 'B', 'LSTAT', 'greenarea', 'internetfacility', 'MDEV',\n",
      "       'investmentrisk'],\n",
      "      dtype='object')\n",
      "RangeIndex(start=0, stop=452, step=1)\n",
      "[[0.00632 18.0 2.31 ... 'fiberoptics' 24.0 'medium']\n",
      " [0.02731 0.0 7.07 ... 'fiberoptics' 21.6 'medium']\n",
      " [0.02729 0.0 7.07 ... 'cable' 34.7 'high']\n",
      " ...\n",
      " [0.06076 0.0 11.93 ... 'cable' 23.9 'medium']\n",
      " [0.10959 0.0 11.93 ... 'fiberoptics' 22.0 'medium']\n",
      " [0.04741 0.0 11.93 ... 'fiberoptics' 11.9 'low']]\n"
     ]
    }
   ],
   "source": [
    "df.info()\n",
    "print(df.columns)\n",
    "print(df.index)\n",
    "print(df.values)"
   ]
  },
  {
   "cell_type": "code",
   "execution_count": 4,
   "metadata": {
    "colab": {
     "base_uri": "https://localhost:8080/"
    },
    "id": "mEEXBeeIR77_",
    "outputId": "543d311e-0486-4378-b9c4-a30cbd62897f"
   },
   "outputs": [
    {
     "name": "stdout",
     "output_type": "stream",
     "text": [
      "CRIM                0\n",
      "ZN                  0\n",
      "INDUS               0\n",
      "CHAS                0\n",
      "NOX                 0\n",
      "RM                  0\n",
      "AGE                 0\n",
      "DIS                 0\n",
      "RAD                 0\n",
      "TAX                 0\n",
      "PTRATIO             0\n",
      "B                   0\n",
      "LSTAT               0\n",
      "greenarea           0\n",
      "internetfacility    0\n",
      "MDEV                0\n",
      "investmentrisk      0\n",
      "dtype: int64\n"
     ]
    }
   ],
   "source": [
    "#Data Cleaning\n",
    "\n",
    "# Count number of missing values in each column\n",
    "print(df.isnull().sum())\n",
    "\n",
    "#Drop rows with missing values\n",
    "df = df.dropna(axis=0)\n",
    "\n"
   ]
  },
  {
   "cell_type": "code",
   "execution_count": 5,
   "metadata": {
    "colab": {
     "base_uri": "https://localhost:8080/",
     "height": 1000
    },
    "id": "WKIIIRsYaV45",
    "outputId": "71599da9-1c97-4aab-fd7c-2a9cd3b2a753"
   },
   "outputs": [
    {
     "name": "stdout",
     "output_type": "stream",
     "text": [
      "             CRIM          ZN       INDUS        CHAS         NOX          RM  \\\n",
      "count  452.000000  452.000000  452.000000  452.000000  452.000000  452.000000   \n",
      "mean     1.420825   12.721239   10.304889    0.077434    0.540816    6.343538   \n",
      "std      2.495894   24.326032    6.797103    0.267574    0.113816    0.666808   \n",
      "min      0.006320    0.000000    0.460000    0.000000    0.385000    3.561000   \n",
      "25%      0.069875    0.000000    4.930000    0.000000    0.447000    5.926750   \n",
      "50%      0.191030    0.000000    8.140000    0.000000    0.519000    6.229000   \n",
      "75%      1.211460   20.000000   18.100000    0.000000    0.605000    6.635000   \n",
      "max      9.966540  100.000000   27.740000    1.000000    0.871000    8.780000   \n",
      "\n",
      "              AGE         DIS         RAD         TAX     PTRATIO           B  \\\n",
      "count  452.000000  452.000000  452.000000  452.000000  452.000000  452.000000   \n",
      "mean    65.557965    4.043570    7.823009  377.442478   18.247124  369.826504   \n",
      "std     28.127025    2.090492    7.543494  151.327573    2.200064   68.554439   \n",
      "min      2.900000    1.129600    1.000000  187.000000   12.600000    0.320000   \n",
      "25%     40.950000    2.354750    4.000000  276.750000   16.800000  377.717500   \n",
      "50%     71.800000    3.550400    5.000000  307.000000   18.600000  392.080000   \n",
      "75%     91.625000    5.401100    7.000000  411.000000   20.200000  396.157500   \n",
      "max    100.000000   12.126500   24.000000  711.000000   22.000000  396.900000   \n",
      "\n",
      "            LSTAT        MDEV  \n",
      "count  452.000000  452.000000  \n",
      "mean    11.441881   23.750442  \n",
      "std      6.156437    8.808602  \n",
      "min      1.730000    6.300000  \n",
      "25%      6.587500   18.500000  \n",
      "50%     10.250000   21.950000  \n",
      "75%     15.105000   26.600000  \n",
      "max     34.410000   50.000000  \n"
     ]
    },
    {
     "data": {
      "text/plain": [
       "array([[<AxesSubplot:title={'center':'CRIM'}>,\n",
       "        <AxesSubplot:title={'center':'ZN'}>,\n",
       "        <AxesSubplot:title={'center':'INDUS'}>,\n",
       "        <AxesSubplot:title={'center':'CHAS'}>],\n",
       "       [<AxesSubplot:title={'center':'NOX'}>,\n",
       "        <AxesSubplot:title={'center':'RM'}>,\n",
       "        <AxesSubplot:title={'center':'AGE'}>,\n",
       "        <AxesSubplot:title={'center':'DIS'}>],\n",
       "       [<AxesSubplot:title={'center':'RAD'}>,\n",
       "        <AxesSubplot:title={'center':'TAX'}>,\n",
       "        <AxesSubplot:title={'center':'PTRATIO'}>,\n",
       "        <AxesSubplot:title={'center':'B'}>],\n",
       "       [<AxesSubplot:title={'center':'LSTAT'}>,\n",
       "        <AxesSubplot:title={'center':'MDEV'}>, <AxesSubplot:>,\n",
       "        <AxesSubplot:>]], dtype=object)"
      ]
     },
     "execution_count": 5,
     "metadata": {},
     "output_type": "execute_result"
    },
    {
     "data": {
      "image/png": "[encoded data removed]",
      "text/plain": [
       "<Figure size 432x288 with 1 Axes>"
      ]
     },
     "metadata": {
      "needs_background": "light"
     },
     "output_type": "display_data"
    },
    {
     "data": {
      "image/png": "[encoded data removed]",
      "text/plain": [
       "<Figure size 432x288 with 16 Axes>"
      ]
     },
     "metadata": {
      "needs_background": "light"
     },
     "output_type": "display_data"
    }
   ],
   "source": [
    "#Data Exploration\n",
    "\n",
    "print(df.describe())\n",
    "\n",
    "#df.hist()\n",
    "\n",
    "df.boxplot()\n",
    "\n",
    "df.hist()\n"
   ]
  },
  {
   "cell_type": "code",
   "execution_count": 6,
   "metadata": {
    "colab": {
     "base_uri": "https://localhost:8080/",
     "height": 592
    },
    "id": "98jUut-BakmN",
    "outputId": "70412692-45ec-4532-c826-143d6af35550"
   },
   "outputs": [
    {
     "name": "stdout",
     "output_type": "stream",
     "text": [
      "             CRIM        ZN     INDUS      CHAS       NOX        RM       AGE  \\\n",
      "CRIM     1.000000 -0.281239  0.573822  0.050066  0.636941 -0.142458  0.447664   \n",
      "ZN      -0.281239  1.000000 -0.514273 -0.059697 -0.500729  0.306623 -0.555679   \n",
      "INDUS    0.573822 -0.514273  1.000000  0.103016  0.738517 -0.364895  0.605982   \n",
      "CHAS     0.050066 -0.059697  0.103016  1.000000  0.134064  0.076580  0.123141   \n",
      "NOX      0.636941 -0.500729  0.738517  0.134064  1.000000 -0.264594  0.707148   \n",
      "RM      -0.142458  0.306623 -0.364895  0.076580 -0.264594  1.000000 -0.187871   \n",
      "AGE      0.447664 -0.555679  0.605982  0.123141  0.707148 -0.187871  1.000000   \n",
      "DIS     -0.461967  0.656152 -0.669362 -0.140662 -0.745812  0.138774 -0.720334   \n",
      "RAD      0.897988 -0.266606  0.513306  0.057337  0.542499 -0.095931  0.359326   \n",
      "TAX      0.825668 -0.269446  0.673312  0.016894  0.615120 -0.214948  0.427095   \n",
      "PTRATIO  0.319470 -0.364122  0.317336 -0.099623  0.103464 -0.334164  0.192956   \n",
      "B       -0.413014  0.150380 -0.316752  0.013415 -0.358433  0.108352 -0.223765   \n",
      "LSTAT    0.424789 -0.411165  0.565402 -0.009430  0.536824 -0.607289  0.573266   \n",
      "MDEV    -0.286245  0.331570 -0.411915  0.154409 -0.332778  0.740181 -0.299893   \n",
      "\n",
      "              DIS       RAD       TAX   PTRATIO         B     LSTAT      MDEV  \n",
      "CRIM    -0.461967  0.897988  0.825668  0.319470 -0.413014  0.424789 -0.286245  \n",
      "ZN       0.656152 -0.266606 -0.269446 -0.364122  0.150380 -0.411165  0.331570  \n",
      "INDUS   -0.669362  0.513306  0.673312  0.317336 -0.316752  0.565402 -0.411915  \n",
      "CHAS    -0.140662  0.057337  0.016894 -0.099623  0.013415 -0.009430  0.154409  \n",
      "NOX     -0.745812  0.542499  0.615120  0.103464 -0.358433  0.536824 -0.332778  \n",
      "RM       0.138774 -0.095931 -0.214948 -0.334164  0.108352 -0.607289  0.740181  \n",
      "AGE     -0.720334  0.359326  0.427095  0.192956 -0.223765  0.573266 -0.299893  \n",
      "DIS      1.000000 -0.388385 -0.444131 -0.152253  0.234449 -0.423725  0.138798  \n",
      "RAD     -0.388385  1.000000  0.872876  0.387484 -0.352586  0.309788 -0.217902  \n",
      "TAX     -0.444131  0.872876  1.000000  0.384511 -0.367084  0.410927 -0.345898  \n",
      "PTRATIO -0.152253  0.387484  0.384511  1.000000 -0.089609  0.303043 -0.461214  \n",
      "B        0.234449 -0.352586 -0.367084 -0.089609  1.000000 -0.291094  0.264797  \n",
      "LSTAT   -0.423725  0.309788  0.410927  0.303043 -0.291094  1.000000 -0.706255  \n",
      "MDEV     0.138798 -0.217902 -0.345898 -0.461214  0.264797 -0.706255  1.000000  \n"
     ]
    },
    {
     "data": {
      "image/png": "[encoded data removed]",
      "text/plain": [
       "<Figure size 432x288 with 2 Axes>"
      ]
     },
     "metadata": {
      "needs_background": "light"
     },
     "output_type": "display_data"
    }
   ],
   "source": [
    "#Data Exploration\n",
    "import seaborn as sns\n",
    "\n",
    "print(df.corr())\n",
    "correlationMatrix=df.corr(method='pearson')\n",
    "ax = sns.heatmap(\n",
    "    correlationMatrix, \n",
    "    vmin=-1, vmax=1, center=0,\n",
    "    cmap=sns.diverging_palette(0, 250, n=50),\n",
    "    square=True\n",
    ")\n",
    "ax.set_xticklabels(\n",
    "    ax.get_xticklabels(),\n",
    "    rotation=50,\n",
    "    horizontalalignment='right'\n",
    ");"
   ]
  },
  {
   "cell_type": "code",
   "execution_count": 7,
   "metadata": {
    "colab": {
     "base_uri": "https://localhost:8080/"
    },
    "id": "tlgj8qEaB2XD",
    "outputId": "305d4d07-f751-41e9-c1d2-0b34088ff054"
   },
   "outputs": [
    {
     "name": "stdout",
     "output_type": "stream",
     "text": [
      "<class 'pandas.core.frame.DataFrame'>\n",
      "        CRIM    ZN  INDUS  CHAS    NOX     RM   AGE     DIS  RAD  TAX  \\\n",
      "0    0.00632  18.0   2.31     0  0.538  6.575  65.2  4.0900    1  296   \n",
      "1    0.02731   0.0   7.07     0  0.469  6.421  78.9  4.9671    2  242   \n",
      "2    0.02729   0.0   7.07     0  0.469  7.185  61.1  4.9671    2  242   \n",
      "3    0.03237   0.0   2.18     0  0.458  6.998  45.8  6.0622    3  222   \n",
      "4    0.06905   0.0   2.18     0  0.458  7.147  54.2  6.0622    3  222   \n",
      "..       ...   ...    ...   ...    ...    ...   ...     ...  ...  ...   \n",
      "447  0.06263   0.0  11.93     0  0.573  6.593  69.1  2.4786    1  273   \n",
      "448  0.04527   0.0  11.93     0  0.573  6.120  76.7  2.2875    1  273   \n",
      "449  0.06076   0.0  11.93     0  0.573  6.976  91.0  2.1675    1  273   \n",
      "450  0.10959   0.0  11.93     0  0.573  6.794  89.3  2.3889    1  273   \n",
      "451  0.04741   0.0  11.93     0  0.573  6.030  80.8  2.5050    1  273   \n",
      "\n",
      "     PTRATIO       B  LSTAT greenarea internetfacility  \n",
      "0       15.3  396.90   4.98       low      fiberoptics  \n",
      "1       17.8  396.90   9.14    medium      fiberoptics  \n",
      "2       17.8  392.83   4.03      high            cable  \n",
      "3       18.7  394.63   2.94      high            cable  \n",
      "4       18.7  396.90   5.33       low            cable  \n",
      "..       ...     ...    ...       ...              ...  \n",
      "447     21.0  391.99   9.67      high            cable  \n",
      "448     21.0  396.90   9.08      high            cable  \n",
      "449     21.0  396.90   5.64       low            cable  \n",
      "450     21.0  393.45   6.48       low      fiberoptics  \n",
      "451     21.0  396.90   7.88    medium      fiberoptics  \n",
      "\n",
      "[452 rows x 15 columns]\n",
      "<class 'pandas.core.series.Series'>\n",
      "0      medium\n",
      "1      medium\n",
      "2        high\n",
      "3        high\n",
      "4        high\n",
      "        ...  \n",
      "447    medium\n",
      "448    medium\n",
      "449    medium\n",
      "450    medium\n",
      "451       low\n",
      "Name: investmentrisk, Length: 452, dtype: object\n",
      "<class 'numpy.ndarray'>\n",
      "<class 'numpy.ndarray'>\n"
     ]
    }
   ],
   "source": [
    "#Feature Selection\n",
    "\n",
    "#Create separate dataframe for all independed varialbes\n",
    "#independent_variables=['CRIM', 'ZN', 'INDUS', 'CHAS', 'NOX', 'RM', 'AGE', 'DIS', 'RAD', 'TAX', 'PTRATIO', 'B', 'LSTAT', 'greenarea', 'internetfacility', 'MDEV', 'investmentrisk']\n",
    "#independent_variables=['CRIM', 'ZN', 'INDUS', 'CHAS', 'NOX', 'RM', 'AGE', 'DIS', 'RAD', 'TAX', 'PTRATIO','B', 'LSTAT' ]\n",
    "\n",
    "independent_variables=['CRIM', 'ZN', 'INDUS', 'CHAS', 'NOX', 'RM', \n",
    "                       'AGE', 'DIS','RAD', 'TAX', 'PTRATIO', 'B', 'LSTAT', \n",
    "                       'greenarea', 'internetfacility']\n",
    "X = df[independent_variables]\n",
    "\n",
    "print(type(X))\n",
    "print(X)\n",
    "\n",
    "#Create a Series for the target variable that we want to predict.\n",
    "#Note: For Regression problems, target variable will be a continuous variable such as MDEV\n",
    "#Note: For Classification problems, target variable will be a categorical variable such as investmentrisk\n",
    "#target_variable='MDEV'\n",
    "target_variable='investmentrisk'\n",
    "y=df[target_variable]\n",
    "\n",
    "print(type(y))\n",
    "print(y)\n",
    "\n",
    "# Convert to numpy array\n",
    "X_numpy = np.array(X)\n",
    "y_numpy=np.array(y)\n",
    "\n",
    "print(type(X_numpy))\n",
    "print(type(y_numpy))"
   ]
  },
  {
   "cell_type": "code",
   "execution_count": 8,
   "metadata": {
    "id": "8z6XdDLH-_fV"
   },
   "outputs": [],
   "source": [
    "#Data Splitting\n",
    "from sklearn.model_selection import train_test_split\n",
    "X_train, X_test, y_train, y_test = train_test_split(X_numpy, y_numpy, test_size=0.2, random_state=1)\n",
    "#X_train, X_val, y_train, y_val = train_test_split(X_train, y_train, test_size=0.2, random_state=1)\n"
   ]
  },
  {
   "cell_type": "code",
   "execution_count": 10,
   "metadata": {},
   "outputs": [
    {
     "name": "stdout",
     "output_type": "stream",
     "text": [
      "[[0.1146 20.0 6.96 ... 7.73 'high' 'cable']\n",
      " [0.11432 0.0 8.56 ... 7.67 'medium' 'cable']\n",
      " [8.71675 0.0 18.1 ... 17.12 'low' 'fiberoptics']\n",
      " ...\n",
      " [9.96654 0.0 18.1 ... 18.85 'medium' 'fiberoptics']\n",
      " [0.33045 0.0 6.2 ... 10.88 'low' 'fiberoptics']\n",
      " [0.08014 0.0 5.96 ... 8.77 'high' 'fiberoptics']]\n"
     ]
    }
   ],
   "source": [
    "print(X_train)"
   ]
  },
  {
   "cell_type": "code",
   "execution_count": 9,
   "metadata": {
    "colab": {
     "base_uri": "https://localhost:8080/"
    },
    "id": "e55tR1uC-_fW",
    "outputId": "22ff464c-1b5c-40a5-9ed8-058a804c2e46"
   },
   "outputs": [
    {
     "ename": "ValueError",
     "evalue": "could not convert string to float: 'high'",
     "output_type": "error",
     "traceback": [
      "\u001b[0;31m---------------------------------------------------------------------------\u001b[0m",
      "\u001b[0;31mValueError\u001b[0m                                Traceback (most recent call last)",
      "\u001b[0;32m<ipython-input-9-f5aeec193255>\u001b[0m in \u001b[0;36m<module>\u001b[0;34m\u001b[0m\n\u001b[1;32m     11\u001b[0m \u001b[0;34m\u001b[0m\u001b[0m\n\u001b[1;32m     12\u001b[0m \u001b[0;31m#Fit RandomForestRegressor model\u001b[0m\u001b[0;34m\u001b[0m\u001b[0;34m\u001b[0m\u001b[0;34m\u001b[0m\u001b[0m\n\u001b[0;32m---> 13\u001b[0;31m \u001b[0mdt_model\u001b[0m\u001b[0;34m.\u001b[0m\u001b[0mfit\u001b[0m\u001b[0;34m(\u001b[0m\u001b[0mX_train\u001b[0m\u001b[0;34m,\u001b[0m \u001b[0my_train\u001b[0m\u001b[0;34m)\u001b[0m\u001b[0;34m\u001b[0m\u001b[0;34m\u001b[0m\u001b[0m\n\u001b[0m\u001b[1;32m     14\u001b[0m \u001b[0;34m\u001b[0m\u001b[0m\n\u001b[1;32m     15\u001b[0m \u001b[0mprint\u001b[0m\u001b[0;34m(\u001b[0m\u001b[0;34m\"Making predictions for the following in train set:\"\u001b[0m\u001b[0;34m)\u001b[0m\u001b[0;34m\u001b[0m\u001b[0;34m\u001b[0m\u001b[0m\n",
      "\u001b[0;32m~/anaconda3/lib/python3.8/site-packages/sklearn/ensemble/_forest.py\u001b[0m in \u001b[0;36mfit\u001b[0;34m(self, X, y, sample_weight)\u001b[0m\n\u001b[1;32m    302\u001b[0m                 \u001b[0;34m\"sparse multilabel-indicator for y is not supported.\"\u001b[0m\u001b[0;34m\u001b[0m\u001b[0;34m\u001b[0m\u001b[0m\n\u001b[1;32m    303\u001b[0m             )\n\u001b[0;32m--> 304\u001b[0;31m         X, y = self._validate_data(X, y, multi_output=True,\n\u001b[0m\u001b[1;32m    305\u001b[0m                                    accept_sparse=\"csc\", dtype=DTYPE)\n\u001b[1;32m    306\u001b[0m         \u001b[0;32mif\u001b[0m \u001b[0msample_weight\u001b[0m \u001b[0;32mis\u001b[0m \u001b[0;32mnot\u001b[0m \u001b[0;32mNone\u001b[0m\u001b[0;34m:\u001b[0m\u001b[0;34m\u001b[0m\u001b[0;34m\u001b[0m\u001b[0m\n",
      "\u001b[0;32m~/anaconda3/lib/python3.8/site-packages/sklearn/base.py\u001b[0m in \u001b[0;36m_validate_data\u001b[0;34m(self, X, y, reset, validate_separately, **check_params)\u001b[0m\n\u001b[1;32m    431\u001b[0m                 \u001b[0my\u001b[0m \u001b[0;34m=\u001b[0m \u001b[0mcheck_array\u001b[0m\u001b[0;34m(\u001b[0m\u001b[0my\u001b[0m\u001b[0;34m,\u001b[0m \u001b[0;34m**\u001b[0m\u001b[0mcheck_y_params\u001b[0m\u001b[0;34m)\u001b[0m\u001b[0;34m\u001b[0m\u001b[0;34m\u001b[0m\u001b[0m\n\u001b[1;32m    432\u001b[0m             \u001b[0;32melse\u001b[0m\u001b[0;34m:\u001b[0m\u001b[0;34m\u001b[0m\u001b[0;34m\u001b[0m\u001b[0m\n\u001b[0;32m--> 433\u001b[0;31m                 \u001b[0mX\u001b[0m\u001b[0;34m,\u001b[0m \u001b[0my\u001b[0m \u001b[0;34m=\u001b[0m \u001b[0mcheck_X_y\u001b[0m\u001b[0;34m(\u001b[0m\u001b[0mX\u001b[0m\u001b[0;34m,\u001b[0m \u001b[0my\u001b[0m\u001b[0;34m,\u001b[0m \u001b[0;34m**\u001b[0m\u001b[0mcheck_params\u001b[0m\u001b[0;34m)\u001b[0m\u001b[0;34m\u001b[0m\u001b[0;34m\u001b[0m\u001b[0m\n\u001b[0m\u001b[1;32m    434\u001b[0m             \u001b[0mout\u001b[0m \u001b[0;34m=\u001b[0m \u001b[0mX\u001b[0m\u001b[0;34m,\u001b[0m \u001b[0my\u001b[0m\u001b[0;34m\u001b[0m\u001b[0;34m\u001b[0m\u001b[0m\n\u001b[1;32m    435\u001b[0m \u001b[0;34m\u001b[0m\u001b[0m\n",
      "\u001b[0;32m~/anaconda3/lib/python3.8/site-packages/sklearn/utils/validation.py\u001b[0m in \u001b[0;36minner_f\u001b[0;34m(*args, **kwargs)\u001b[0m\n\u001b[1;32m     61\u001b[0m             \u001b[0mextra_args\u001b[0m \u001b[0;34m=\u001b[0m \u001b[0mlen\u001b[0m\u001b[0;34m(\u001b[0m\u001b[0margs\u001b[0m\u001b[0;34m)\u001b[0m \u001b[0;34m-\u001b[0m \u001b[0mlen\u001b[0m\u001b[0;34m(\u001b[0m\u001b[0mall_args\u001b[0m\u001b[0;34m)\u001b[0m\u001b[0;34m\u001b[0m\u001b[0;34m\u001b[0m\u001b[0m\n\u001b[1;32m     62\u001b[0m             \u001b[0;32mif\u001b[0m \u001b[0mextra_args\u001b[0m \u001b[0;34m<=\u001b[0m \u001b[0;36m0\u001b[0m\u001b[0;34m:\u001b[0m\u001b[0;34m\u001b[0m\u001b[0;34m\u001b[0m\u001b[0m\n\u001b[0;32m---> 63\u001b[0;31m                 \u001b[0;32mreturn\u001b[0m \u001b[0mf\u001b[0m\u001b[0;34m(\u001b[0m\u001b[0;34m*\u001b[0m\u001b[0margs\u001b[0m\u001b[0;34m,\u001b[0m \u001b[0;34m**\u001b[0m\u001b[0mkwargs\u001b[0m\u001b[0;34m)\u001b[0m\u001b[0;34m\u001b[0m\u001b[0;34m\u001b[0m\u001b[0m\n\u001b[0m\u001b[1;32m     64\u001b[0m \u001b[0;34m\u001b[0m\u001b[0m\n\u001b[1;32m     65\u001b[0m             \u001b[0;31m# extra_args > 0\u001b[0m\u001b[0;34m\u001b[0m\u001b[0;34m\u001b[0m\u001b[0;34m\u001b[0m\u001b[0m\n",
      "\u001b[0;32m~/anaconda3/lib/python3.8/site-packages/sklearn/utils/validation.py\u001b[0m in \u001b[0;36mcheck_X_y\u001b[0;34m(X, y, accept_sparse, accept_large_sparse, dtype, order, copy, force_all_finite, ensure_2d, allow_nd, multi_output, ensure_min_samples, ensure_min_features, y_numeric, estimator)\u001b[0m\n\u001b[1;32m    812\u001b[0m         \u001b[0;32mraise\u001b[0m \u001b[0mValueError\u001b[0m\u001b[0;34m(\u001b[0m\u001b[0;34m\"y cannot be None\"\u001b[0m\u001b[0;34m)\u001b[0m\u001b[0;34m\u001b[0m\u001b[0;34m\u001b[0m\u001b[0m\n\u001b[1;32m    813\u001b[0m \u001b[0;34m\u001b[0m\u001b[0m\n\u001b[0;32m--> 814\u001b[0;31m     X = check_array(X, accept_sparse=accept_sparse,\n\u001b[0m\u001b[1;32m    815\u001b[0m                     \u001b[0maccept_large_sparse\u001b[0m\u001b[0;34m=\u001b[0m\u001b[0maccept_large_sparse\u001b[0m\u001b[0;34m,\u001b[0m\u001b[0;34m\u001b[0m\u001b[0;34m\u001b[0m\u001b[0m\n\u001b[1;32m    816\u001b[0m                     \u001b[0mdtype\u001b[0m\u001b[0;34m=\u001b[0m\u001b[0mdtype\u001b[0m\u001b[0;34m,\u001b[0m \u001b[0morder\u001b[0m\u001b[0;34m=\u001b[0m\u001b[0morder\u001b[0m\u001b[0;34m,\u001b[0m \u001b[0mcopy\u001b[0m\u001b[0;34m=\u001b[0m\u001b[0mcopy\u001b[0m\u001b[0;34m,\u001b[0m\u001b[0;34m\u001b[0m\u001b[0;34m\u001b[0m\u001b[0m\n",
      "\u001b[0;32m~/anaconda3/lib/python3.8/site-packages/sklearn/utils/validation.py\u001b[0m in \u001b[0;36minner_f\u001b[0;34m(*args, **kwargs)\u001b[0m\n\u001b[1;32m     61\u001b[0m             \u001b[0mextra_args\u001b[0m \u001b[0;34m=\u001b[0m \u001b[0mlen\u001b[0m\u001b[0;34m(\u001b[0m\u001b[0margs\u001b[0m\u001b[0;34m)\u001b[0m \u001b[0;34m-\u001b[0m \u001b[0mlen\u001b[0m\u001b[0;34m(\u001b[0m\u001b[0mall_args\u001b[0m\u001b[0;34m)\u001b[0m\u001b[0;34m\u001b[0m\u001b[0;34m\u001b[0m\u001b[0m\n\u001b[1;32m     62\u001b[0m             \u001b[0;32mif\u001b[0m \u001b[0mextra_args\u001b[0m \u001b[0;34m<=\u001b[0m \u001b[0;36m0\u001b[0m\u001b[0;34m:\u001b[0m\u001b[0;34m\u001b[0m\u001b[0;34m\u001b[0m\u001b[0m\n\u001b[0;32m---> 63\u001b[0;31m                 \u001b[0;32mreturn\u001b[0m \u001b[0mf\u001b[0m\u001b[0;34m(\u001b[0m\u001b[0;34m*\u001b[0m\u001b[0margs\u001b[0m\u001b[0;34m,\u001b[0m \u001b[0;34m**\u001b[0m\u001b[0mkwargs\u001b[0m\u001b[0;34m)\u001b[0m\u001b[0;34m\u001b[0m\u001b[0;34m\u001b[0m\u001b[0m\n\u001b[0m\u001b[1;32m     64\u001b[0m \u001b[0;34m\u001b[0m\u001b[0m\n\u001b[1;32m     65\u001b[0m             \u001b[0;31m# extra_args > 0\u001b[0m\u001b[0;34m\u001b[0m\u001b[0;34m\u001b[0m\u001b[0;34m\u001b[0m\u001b[0m\n",
      "\u001b[0;32m~/anaconda3/lib/python3.8/site-packages/sklearn/utils/validation.py\u001b[0m in \u001b[0;36mcheck_array\u001b[0;34m(array, accept_sparse, accept_large_sparse, dtype, order, copy, force_all_finite, ensure_2d, allow_nd, ensure_min_samples, ensure_min_features, estimator)\u001b[0m\n\u001b[1;32m    614\u001b[0m                     \u001b[0marray\u001b[0m \u001b[0;34m=\u001b[0m \u001b[0marray\u001b[0m\u001b[0;34m.\u001b[0m\u001b[0mastype\u001b[0m\u001b[0;34m(\u001b[0m\u001b[0mdtype\u001b[0m\u001b[0;34m,\u001b[0m \u001b[0mcasting\u001b[0m\u001b[0;34m=\u001b[0m\u001b[0;34m\"unsafe\"\u001b[0m\u001b[0;34m,\u001b[0m \u001b[0mcopy\u001b[0m\u001b[0;34m=\u001b[0m\u001b[0;32mFalse\u001b[0m\u001b[0;34m)\u001b[0m\u001b[0;34m\u001b[0m\u001b[0;34m\u001b[0m\u001b[0m\n\u001b[1;32m    615\u001b[0m                 \u001b[0;32melse\u001b[0m\u001b[0;34m:\u001b[0m\u001b[0;34m\u001b[0m\u001b[0;34m\u001b[0m\u001b[0m\n\u001b[0;32m--> 616\u001b[0;31m                     \u001b[0marray\u001b[0m \u001b[0;34m=\u001b[0m \u001b[0mnp\u001b[0m\u001b[0;34m.\u001b[0m\u001b[0masarray\u001b[0m\u001b[0;34m(\u001b[0m\u001b[0marray\u001b[0m\u001b[0;34m,\u001b[0m \u001b[0morder\u001b[0m\u001b[0;34m=\u001b[0m\u001b[0morder\u001b[0m\u001b[0;34m,\u001b[0m \u001b[0mdtype\u001b[0m\u001b[0;34m=\u001b[0m\u001b[0mdtype\u001b[0m\u001b[0;34m)\u001b[0m\u001b[0;34m\u001b[0m\u001b[0;34m\u001b[0m\u001b[0m\n\u001b[0m\u001b[1;32m    617\u001b[0m             \u001b[0;32mexcept\u001b[0m \u001b[0mComplexWarning\u001b[0m \u001b[0;32mas\u001b[0m \u001b[0mcomplex_warning\u001b[0m\u001b[0;34m:\u001b[0m\u001b[0;34m\u001b[0m\u001b[0;34m\u001b[0m\u001b[0m\n\u001b[1;32m    618\u001b[0m                 raise ValueError(\"Complex data not supported\\n\"\n",
      "\u001b[0;32m~/anaconda3/lib/python3.8/site-packages/numpy/core/_asarray.py\u001b[0m in \u001b[0;36masarray\u001b[0;34m(a, dtype, order, like)\u001b[0m\n\u001b[1;32m    100\u001b[0m         \u001b[0;32mreturn\u001b[0m \u001b[0m_asarray_with_like\u001b[0m\u001b[0;34m(\u001b[0m\u001b[0ma\u001b[0m\u001b[0;34m,\u001b[0m \u001b[0mdtype\u001b[0m\u001b[0;34m=\u001b[0m\u001b[0mdtype\u001b[0m\u001b[0;34m,\u001b[0m \u001b[0morder\u001b[0m\u001b[0;34m=\u001b[0m\u001b[0morder\u001b[0m\u001b[0;34m,\u001b[0m \u001b[0mlike\u001b[0m\u001b[0;34m=\u001b[0m\u001b[0mlike\u001b[0m\u001b[0;34m)\u001b[0m\u001b[0;34m\u001b[0m\u001b[0;34m\u001b[0m\u001b[0m\n\u001b[1;32m    101\u001b[0m \u001b[0;34m\u001b[0m\u001b[0m\n\u001b[0;32m--> 102\u001b[0;31m     \u001b[0;32mreturn\u001b[0m \u001b[0marray\u001b[0m\u001b[0;34m(\u001b[0m\u001b[0ma\u001b[0m\u001b[0;34m,\u001b[0m \u001b[0mdtype\u001b[0m\u001b[0;34m,\u001b[0m \u001b[0mcopy\u001b[0m\u001b[0;34m=\u001b[0m\u001b[0;32mFalse\u001b[0m\u001b[0;34m,\u001b[0m \u001b[0morder\u001b[0m\u001b[0;34m=\u001b[0m\u001b[0morder\u001b[0m\u001b[0;34m)\u001b[0m\u001b[0;34m\u001b[0m\u001b[0;34m\u001b[0m\u001b[0m\n\u001b[0m\u001b[1;32m    103\u001b[0m \u001b[0;34m\u001b[0m\u001b[0m\n\u001b[1;32m    104\u001b[0m \u001b[0;34m\u001b[0m\u001b[0m\n",
      "\u001b[0;31mValueError\u001b[0m: could not convert string to float: 'high'"
     ]
    }
   ],
   "source": [
    "from sklearn.tree import DecisionTreeRegressor\n",
    "from sklearn.ensemble import RandomForestRegressor\n",
    "from sklearn.ensemble import RandomForestClassifier\n",
    "from sklearn.metrics import accuracy_score\n",
    "\n",
    "num_trees=5\n",
    "#dt_model = RandomForestRegressor(random_state=1, max_depth= 8, max_samples=300, max_features=6, n_estimators=num_trees)\n",
    "dt_model = RandomForestClassifier(random_state=1, max_depth= 12, max_samples=300, max_features=7, n_estimators=num_trees)\n",
    "\n",
    "\n",
    "\n",
    "#Fit RandomForestRegressor model\n",
    "dt_model.fit(X_train, y_train)\n",
    "\n",
    "print(\"Making predictions for the following in train set:\")\n",
    "predicted_values=dt_model.predict(X_train[0:10,:])\n",
    "true_values=y_train[0:10]\n",
    "print(\"True values are \",true_values)\n",
    "print(\"The predicted values are\", predicted_values)\n",
    "#print(\"Diff\", predicted_values-true_values)\n",
    "\n",
    "training_accuracy=accuracy_score(true_values, predicted_values, normalize=False)\n",
    "print(\"Accuracy Score in Training set\", training_accuracy)\n",
    "\n",
    "print(\"Making predictions for the following in testing set:\")\n",
    "predicted_values=dt_model.predict(X_test[0:10,:])\n",
    "true_values=y_test[0:10]\n",
    "print(\"True values are \",true_values)\n",
    "print(\"The predicted values are\", predicted_values)\n",
    "#print(\"Diff\", predicted_values-true_values)\n",
    "\n",
    "\n",
    "testing_accuracy=accuracy_score(true_values, predicted_values, normalize=False)\n",
    "print(\"Accuracy Score in Testing set\", testing_accuracy)"
   ]
  },
  {
   "cell_type": "code",
   "execution_count": null,
   "metadata": {
    "colab": {
     "base_uri": "https://localhost:8080/",
     "height": 563
    },
    "id": "mNtSCb7Ljk-S",
    "outputId": "0c9ac1e1-c8ea-4a81-b41a-8779b9731cac"
   },
   "outputs": [],
   "source": [
    "#Plot confusion matrix\n",
    "import matplotlib.pyplot as plt\n",
    "from sklearn.metrics import plot_confusion_matrix\n",
    "from sklearn.metrics import confusion_matrix\n",
    "\n",
    "#Plot the confusion matrix for training data, include numbers in the plot\n",
    "plot_confusion_matrix(dt_model, X_train, y_train, values_format=\"d\")\n",
    "\n",
    "#Plot the confusion matrix for testing data, include numbers in the plot\n",
    "plot_confusion_matrix(dt_model, X_test, y_test)"
   ]
  },
  {
   "cell_type": "code",
   "execution_count": 25,
   "metadata": {
    "colab": {
     "base_uri": "https://localhost:8080/",
     "height": 559
    },
    "id": "omX-SRi0PBFw",
    "outputId": "e5db9d45-aa0a-4b17-e9c6-4263aa970521"
   },
   "outputs": [
    {
     "data": {
      "text/plain": [
       "<sklearn.metrics._plot.confusion_matrix.ConfusionMatrixDisplay at 0x7f7fdbec2090>"
      ]
     },
     "execution_count": 25,
     "metadata": {
      "tags": []
     },
     "output_type": "execute_result"
    },
    {
     "data": {
      "image/png": "[encoded data removed]",
      "text/plain": [
       "<Figure size 432x288 with 2 Axes>"
      ]
     },
     "metadata": {
      "needs_background": "light",
      "tags": []
     },
     "output_type": "display_data"
    },
    {
     "data": {
      "image/png": "[encoded data removed]",
      "text/plain": [
       "<Figure size 432x288 with 2 Axes>"
      ]
     },
     "metadata": {
      "needs_background": "light",
      "tags": []
     },
     "output_type": "display_data"
    }
   ],
   "source": [
    "#Plot confusion matrix\n",
    "import matplotlib.pyplot as plt\n",
    "from sklearn.metrics import plot_confusion_matrix\n",
    "from sklearn.metrics import confusion_matrix\n",
    "\n",
    "#Plot the confusion matrix for training data using percentage\n",
    "plot_confusion_matrix(dt_model, X_train, y_train, normalize=\"all\")\n",
    "\n",
    "#Plot the confusion matrix for testing data using percentage\n",
    "plot_confusion_matrix(dt_model, X_test, y_test,normalize=\"all\")\n"
   ]
  },
  {
   "cell_type": "code",
   "execution_count": 33,
   "metadata": {
    "colab": {
     "base_uri": "https://localhost:8080/"
    },
    "id": "j6z5hWa1lKKJ",
    "outputId": "530b4c8c-2beb-49cd-81d2-99a45ce410dc"
   },
   "outputs": [
    {
     "name": "stdout",
     "output_type": "stream",
     "text": [
      "Average Train accuracy  0.9833795013850416\n",
      "Average Testing accuracy  0.7472527472527473\n"
     ]
    }
   ],
   "source": [
    "# Average training error\n",
    "training_accuracy=accuracy_score(y_train,dt_model.predict(X_train))\n",
    "print(\"Average Train accuracy \", training_accuracy)\n",
    "\n",
    "testing_accuracy=accuracy_score(y_test,dt_model.predict(X_test))\n",
    "print(\"Average Testing accuracy \", testing_accuracy)"
   ]
  },
  {
   "cell_type": "code",
   "execution_count": 29,
   "metadata": {
    "id": "ezwYSeT8-_fZ"
   },
   "outputs": [],
   "source": [
    "from sklearn.tree import export_graphviz\n",
    "# Export as dot file\n",
    "\n",
    "fn=independent_variables\n",
    "\n",
    "for index in range(0, num_trees):\n",
    "    export_graphviz(dt_model.estimators_[index], out_file='tree'+str(index)+'_.dot', \n",
    "                feature_names = fn, \n",
    "                rounded = True, proportion = False, \n",
    "                precision = 2, filled = True)"
   ]
  }
 ],
 "metadata": {
  "colab": {
   "collapsed_sections": [],
   "name": "Ambi_ML_Tutorial_Classification.ipynb",
   "provenance": []
  },
  "kernelspec": {
   "display_name": "Python 3",
   "language": "python",
   "name": "python3"
  },
  "language_info": {
   "codemirror_mode": {
    "name": "ipython",
    "version": 3
   },
   "file_extension": ".py",
   "mimetype": "text/x-python",
   "name": "python",
   "nbconvert_exporter": "python",
   "pygments_lexer": "ipython3",
   "version": "3.8.5"
  }
 },
 "nbformat": 4,
 "nbformat_minor": 4
}
