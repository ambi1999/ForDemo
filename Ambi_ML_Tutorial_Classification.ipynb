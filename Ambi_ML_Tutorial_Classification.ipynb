{
  "nbformat": 4,
  "nbformat_minor": 0,
  "metadata": {
    "kernelspec": {
      "display_name": "Python 3",
      "language": "python",
      "name": "python3"
    },
    "language_info": {
      "codemirror_mode": {
        "name": "ipython",
        "version": 3
      },
      "file_extension": ".py",
      "mimetype": "text/x-python",
      "name": "python",
      "nbconvert_exporter": "python",
      "pygments_lexer": "ipython3",
      "version": "3.8.5"
    },
    "colab": {
      "name": "Ambi_ML_Tutorial_Classification.ipynb",
      "provenance": [],
      "collapsed_sections": []
    }
  },
  "cells": [
    {
      "cell_type": "markdown",
      "metadata": {
        "id": "fB2cX7Dq-_fA"
      },
      "source": [
        "# Tutorial for Simple Classification Model\n",
        "Author: Dr Ambikesh Jayal, ajayal@cardiffmet.ac.uk\n",
        "Web: https://sites.google.com/site/ambi1999/main\n",
        "Github: https://github.com/ambi1999\n",
        "\n",
        "**Code used in tutorial is available from link below:**\n",
        "\n",
        "https://colab.research.google.com/drive/1MYKgyJcpp_GKUZ5kRVAHJRVXmuYf9fhU?usp=sharing\n",
        "\n",
        "\n",
        "# **Step 1:** Reading data using Pandas dataframe\n",
        "# **Step 2:** Data Cleaning\n",
        "# **Step 3:** Data Exploration\n",
        "# **Step 4:** Feature Selection\n",
        "# **Step 5:** Split into Training and Testing set \n",
        "# **Step 5:** Build Model\n",
        "# **Step 6:** Check performance of the model on testing and traning set \n",
        "(Please note that the performance will always be higher in training set, the real measure of is performance of model in testing set)\n",
        "\n",
        "\n",
        "# Below are some useful links\n",
        "\n",
        "# 1. Pands Cheatsheet: https://pandas.pydata.org/Pandas_Cheat_Sheet.pdf\n",
        "2. Details about Pandas: https://pandas.pydata.org/docs/user_guide/index.html\n",
        "3. Details about RandomForestRegressor used in regression\n",
        "https://scikit-learn.org/stable/modules/generated/sklearn.ensemble.RandomForestRegressor.html\n",
        "4. Details about RandomForestClassifier used in classification\n",
        "https://scikit-learn.org/stable/modules/generated/sklearn.ensemble.RandomForestClassifier.html\n",
        "5. View .dot tree file at https://dreampuf.github.io/GraphvizOnline"
      ]
    },
    {
      "cell_type": "code",
      "metadata": {
        "id": "MwLwr_IJ-_fP",
        "colab": {
          "base_uri": "https://localhost:8080/"
        },
        "outputId": "e7411d0f-08e3-4f08-ef78-6aaebd8f651b"
      },
      "source": [
        "# Pandas is used for data manipulation\n",
        "import pandas as pd\n",
        "import numpy as np\n",
        "\n",
        "#Reading data from url\n",
        "url=\"https://raw.githubusercontent.com/ambi1999/mldataset/main/Boston_housing_dataset_generic_modified_by_ambi/boston_housing_dataset_generic_modified_by_ambi.csv\"\n",
        "df = pd.read_csv(url)\n",
        "\n",
        "#Reading data from csv, replace the mydata.csv with the full path name of your data file\n",
        "#df=pd.read_csv(\"mydata.csv\")\n",
        "\n",
        "print(type(df))\n",
        "print(df)"
      ],
      "execution_count": null,
      "outputs": [
        {
          "output_type": "stream",
          "text": [
            "<class 'pandas.core.frame.DataFrame'>\n",
            "        CRIM    ZN  INDUS  CHAS  ...  greenarea  internetfacility  MDEV  investmentrisk\n",
            "0    0.00632  18.0   2.31     0  ...        low       fiberoptics  24.0          medium\n",
            "1    0.02731   0.0   7.07     0  ...     medium       fiberoptics  21.6          medium\n",
            "2    0.02729   0.0   7.07     0  ...       high             cable  34.7            high\n",
            "3    0.03237   0.0   2.18     0  ...       high             cable  33.4            high\n",
            "4    0.06905   0.0   2.18     0  ...        low             cable  36.2            high\n",
            "..       ...   ...    ...   ...  ...        ...               ...   ...             ...\n",
            "447  0.06263   0.0  11.93     0  ...       high             cable  22.4          medium\n",
            "448  0.04527   0.0  11.93     0  ...       high             cable  20.6          medium\n",
            "449  0.06076   0.0  11.93     0  ...        low             cable  23.9          medium\n",
            "450  0.10959   0.0  11.93     0  ...        low       fiberoptics  22.0          medium\n",
            "451  0.04741   0.0  11.93     0  ...     medium       fiberoptics  11.9             low\n",
            "\n",
            "[452 rows x 17 columns]\n"
          ],
          "name": "stdout"
        }
      ]
    },
    {
      "cell_type": "code",
      "metadata": {
        "colab": {
          "base_uri": "https://localhost:8080/"
        },
        "id": "IUil2XNaaBcg",
        "outputId": "40e7d73c-b0d2-40ca-bb42-dc992c818c8b"
      },
      "source": [
        "df.info()\n",
        "print(df.columns)\n",
        "print(df.index)\n",
        "print(df.values)"
      ],
      "execution_count": null,
      "outputs": [
        {
          "output_type": "stream",
          "text": [
            "<class 'pandas.core.frame.DataFrame'>\n",
            "RangeIndex: 452 entries, 0 to 451\n",
            "Data columns (total 17 columns):\n",
            " #   Column            Non-Null Count  Dtype  \n",
            "---  ------            --------------  -----  \n",
            " 0   CRIM              452 non-null    float64\n",
            " 1   ZN                452 non-null    float64\n",
            " 2   INDUS             452 non-null    float64\n",
            " 3   CHAS              452 non-null    int64  \n",
            " 4   NOX               452 non-null    float64\n",
            " 5   RM                452 non-null    float64\n",
            " 6   AGE               452 non-null    float64\n",
            " 7   DIS               452 non-null    float64\n",
            " 8   RAD               452 non-null    int64  \n",
            " 9   TAX               452 non-null    int64  \n",
            " 10  PTRATIO           452 non-null    float64\n",
            " 11  B                 452 non-null    float64\n",
            " 12  LSTAT             452 non-null    float64\n",
            " 13  greenarea         452 non-null    object \n",
            " 14  internetfacility  452 non-null    object \n",
            " 15  MDEV              452 non-null    float64\n",
            " 16  investmentrisk    452 non-null    object \n",
            "dtypes: float64(11), int64(3), object(3)\n",
            "memory usage: 60.2+ KB\n",
            "Index(['CRIM', 'ZN', 'INDUS', 'CHAS', 'NOX', 'RM', 'AGE', 'DIS', 'RAD', 'TAX',\n",
            "       'PTRATIO', 'B', 'LSTAT', 'greenarea', 'internetfacility', 'MDEV',\n",
            "       'investmentrisk'],\n",
            "      dtype='object')\n",
            "RangeIndex(start=0, stop=452, step=1)\n",
            "[[0.00632 18.0 2.31 ... 'fiberoptics' 24.0 'medium']\n",
            " [0.02731 0.0 7.07 ... 'fiberoptics' 21.6 'medium']\n",
            " [0.02729 0.0 7.07 ... 'cable' 34.7 'high']\n",
            " ...\n",
            " [0.06076 0.0 11.93 ... 'cable' 23.9 'medium']\n",
            " [0.10959 0.0 11.93 ... 'fiberoptics' 22.0 'medium']\n",
            " [0.04741 0.0 11.93 ... 'fiberoptics' 11.9 'low']]\n"
          ],
          "name": "stdout"
        }
      ]
    },
    {
      "cell_type": "code",
      "metadata": {
        "colab": {
          "base_uri": "https://localhost:8080/"
        },
        "id": "mEEXBeeIR77_",
        "outputId": "543d311e-0486-4378-b9c4-a30cbd62897f"
      },
      "source": [
        "#Data Cleaning\n",
        "\n",
        "# Count number of missing values in each column\n",
        "print(df.isnull().sum())\n",
        "\n",
        "#Drop rows with missing values\n",
        "df = df.dropna(axis=0)\n",
        "\n"
      ],
      "execution_count": null,
      "outputs": [
        {
          "output_type": "stream",
          "text": [
            "CRIM                0\n",
            "ZN                  0\n",
            "INDUS               0\n",
            "CHAS                0\n",
            "NOX                 0\n",
            "RM                  0\n",
            "AGE                 0\n",
            "DIS                 0\n",
            "RAD                 0\n",
            "TAX                 0\n",
            "PTRATIO             0\n",
            "B                   0\n",
            "LSTAT               0\n",
            "greenarea           0\n",
            "internetfacility    0\n",
            "MDEV                0\n",
            "investmentrisk      0\n",
            "dtype: int64\n"
          ],
          "name": "stdout"
        }
      ]
    },
    {
      "cell_type": "code",
      "metadata": {
        "colab": {
          "base_uri": "https://localhost:8080/",
          "height": 1000
        },
        "id": "WKIIIRsYaV45",
        "outputId": "71599da9-1c97-4aab-fd7c-2a9cd3b2a753"
      },
      "source": [
        "#Data Exploration\n",
        "\n",
        "print(df.describe())\n",
        "\n",
        "#df.hist()\n",
        "\n",
        "df.boxplot()\n",
        "\n",
        "df.hist()\n"
      ],
      "execution_count": null,
      "outputs": [
        {
          "output_type": "stream",
          "text": [
            "             CRIM          ZN       INDUS  ...           B       LSTAT        MDEV\n",
            "count  452.000000  452.000000  452.000000  ...  452.000000  452.000000  452.000000\n",
            "mean     1.420825   12.721239   10.304889  ...  369.826504   11.441881   23.750442\n",
            "std      2.495894   24.326032    6.797103  ...   68.554439    6.156437    8.808602\n",
            "min      0.006320    0.000000    0.460000  ...    0.320000    1.730000    6.300000\n",
            "25%      0.069875    0.000000    4.930000  ...  377.717500    6.587500   18.500000\n",
            "50%      0.191030    0.000000    8.140000  ...  392.080000   10.250000   21.950000\n",
            "75%      1.211460   20.000000   18.100000  ...  396.157500   15.105000   26.600000\n",
            "max      9.966540  100.000000   27.740000  ...  396.900000   34.410000   50.000000\n",
            "\n",
            "[8 rows x 14 columns]\n"
          ],
          "name": "stdout"
        },
        {
          "output_type": "execute_result",
          "data": {
            "text/plain": [
              "array([[<matplotlib.axes._subplots.AxesSubplot object at 0x7f7fe9312610>,\n",
              "        <matplotlib.axes._subplots.AxesSubplot object at 0x7f7fe92e37d0>,\n",
              "        <matplotlib.axes._subplots.AxesSubplot object at 0x7f7fe9297e50>,\n",
              "        <matplotlib.axes._subplots.AxesSubplot object at 0x7f7fe925a510>],\n",
              "       [<matplotlib.axes._subplots.AxesSubplot object at 0x7f7fe9210b90>,\n",
              "        <matplotlib.axes._subplots.AxesSubplot object at 0x7f7fe91d2250>,\n",
              "        <matplotlib.axes._subplots.AxesSubplot object at 0x7f7fe9186950>,\n",
              "        <matplotlib.axes._subplots.AxesSubplot object at 0x7f7fe91bcf10>],\n",
              "       [<matplotlib.axes._subplots.AxesSubplot object at 0x7f7fe91bcf50>,\n",
              "        <matplotlib.axes._subplots.AxesSubplot object at 0x7f7fe917e690>,\n",
              "        <matplotlib.axes._subplots.AxesSubplot object at 0x7f7fe90f42d0>,\n",
              "        <matplotlib.axes._subplots.AxesSubplot object at 0x7f7fe90ad950>],\n",
              "       [<matplotlib.axes._subplots.AxesSubplot object at 0x7f7fe9056b10>,\n",
              "        <matplotlib.axes._subplots.AxesSubplot object at 0x7f7fe9023690>,\n",
              "        <matplotlib.axes._subplots.AxesSubplot object at 0x7f7fe8fd9d10>,\n",
              "        <matplotlib.axes._subplots.AxesSubplot object at 0x7f7fe8f9a3d0>]],\n",
              "      dtype=object)"
            ]
          },
          "metadata": {
            "tags": []
          },
          "execution_count": 5
        },
        {
          "output_type": "display_data",
          "data": {
            "image/png": "[encoded data removed]",
            "text/plain": [
              "<Figure size 432x288 with 1 Axes>"
            ]
          },
          "metadata": {
            "tags": [],
            "needs_background": "light"
          }
        },
        {
          "output_type": "display_data",
          "data": {
            "image/png": "[encoded data removed]",
            "text/plain": [
              "<Figure size 432x288 with 16 Axes>"
            ]
          },
          "metadata": {
            "tags": [],
            "needs_background": "light"
          }
        }
      ]
    },
    {
      "cell_type": "code",
      "metadata": {
        "colab": {
          "base_uri": "https://localhost:8080/",
          "height": 592
        },
        "id": "98jUut-BakmN",
        "outputId": "70412692-45ec-4532-c826-143d6af35550"
      },
      "source": [
        "#Data Exploration\n",
        "import seaborn as sns\n",
        "\n",
        "print(df.corr())\n",
        "correlationMatrix=df.corr(method='pearson')\n",
        "ax = sns.heatmap(\n",
        "    correlationMatrix, \n",
        "    vmin=-1, vmax=1, center=0,\n",
        "    cmap=sns.diverging_palette(0, 250, n=50),\n",
        "    square=True\n",
        ")\n",
        "ax.set_xticklabels(\n",
        "    ax.get_xticklabels(),\n",
        "    rotation=50,\n",
        "    horizontalalignment='right'\n",
        ");"
      ],
      "execution_count": null,
      "outputs": [
        {
          "output_type": "stream",
          "text": [
            "             CRIM        ZN     INDUS  ...         B     LSTAT      MDEV\n",
            "CRIM     1.000000 -0.281239  0.573822  ... -0.413014  0.424789 -0.286245\n",
            "ZN      -0.281239  1.000000 -0.514273  ...  0.150380 -0.411165  0.331570\n",
            "INDUS    0.573822 -0.514273  1.000000  ... -0.316752  0.565402 -0.411915\n",
            "CHAS     0.050066 -0.059697  0.103016  ...  0.013415 -0.009430  0.154409\n",
            "NOX      0.636941 -0.500729  0.738517  ... -0.358433  0.536824 -0.332778\n",
            "RM      -0.142458  0.306623 -0.364895  ...  0.108352 -0.607289  0.740181\n",
            "AGE      0.447664 -0.555679  0.605982  ... -0.223765  0.573266 -0.299893\n",
            "DIS     -0.461967  0.656152 -0.669362  ...  0.234449 -0.423725  0.138798\n",
            "RAD      0.897988 -0.266606  0.513306  ... -0.352586  0.309788 -0.217902\n",
            "TAX      0.825668 -0.269446  0.673312  ... -0.367084  0.410927 -0.345898\n",
            "PTRATIO  0.319470 -0.364122  0.317336  ... -0.089609  0.303043 -0.461214\n",
            "B       -0.413014  0.150380 -0.316752  ...  1.000000 -0.291094  0.264797\n",
            "LSTAT    0.424789 -0.411165  0.565402  ... -0.291094  1.000000 -0.706255\n",
            "MDEV    -0.286245  0.331570 -0.411915  ...  0.264797 -0.706255  1.000000\n",
            "\n",
            "[14 rows x 14 columns]\n"
          ],
          "name": "stdout"
        },
        {
          "output_type": "display_data",
          "data": {
            "image/png": "[encoded data removed]",
            "text/plain": [
              "<Figure size 432x288 with 2 Axes>"
            ]
          },
          "metadata": {
            "tags": [],
            "needs_background": "light"
          }
        }
      ]
    },
    {
      "cell_type": "code",
      "metadata": {
        "id": "tlgj8qEaB2XD",
        "colab": {
          "base_uri": "https://localhost:8080/"
        },
        "outputId": "305d4d07-f751-41e9-c1d2-0b34088ff054"
      },
      "source": [
        "#Feature Selection\n",
        "\n",
        "#Create separate dataframe for all independed varialbes\n",
        "#independent_variables=['CRIM', 'ZN', 'INDUS', 'CHAS', 'NOX', 'RM', 'AGE', 'DIS', 'RAD', 'TAX', 'PTRATIO', 'B', 'LSTAT', 'greenarea', 'internetfacility', 'MDEV', 'investmentrisk']\n",
        "independent_variables=['CRIM', 'ZN', 'INDUS', 'CHAS', 'NOX', 'RM', 'AGE', 'DIS', 'RAD', 'TAX', 'PTRATIO','B', 'LSTAT' ]\n",
        "X = df[independent_variables]\n",
        "\n",
        "print(type(X))\n",
        "print(X)\n",
        "\n",
        "#Create a Series for the target variable that we want to predict.\n",
        "#Note: For Regression problems, target variable will be a continuous variable such as MDEV\n",
        "#Note: For Classification problems, target variable will be a categorical variable such as investmentrisk\n",
        "#target_variable='MDEV'\n",
        "target_variable='investmentrisk'\n",
        "y=df[target_variable]\n",
        "\n",
        "print(type(y))\n",
        "print(y)\n",
        "\n",
        "# Convert to numpy array\n",
        "X_numpy = np.array(X)\n",
        "y_numpy=np.array(y)\n",
        "\n",
        "print(type(X_numpy))\n",
        "print(type(y_numpy))"
      ],
      "execution_count": null,
      "outputs": [
        {
          "output_type": "stream",
          "text": [
            "<class 'pandas.core.frame.DataFrame'>\n",
            "        CRIM    ZN  INDUS  CHAS    NOX  ...  RAD  TAX  PTRATIO       B  LSTAT\n",
            "0    0.00632  18.0   2.31     0  0.538  ...    1  296     15.3  396.90   4.98\n",
            "1    0.02731   0.0   7.07     0  0.469  ...    2  242     17.8  396.90   9.14\n",
            "2    0.02729   0.0   7.07     0  0.469  ...    2  242     17.8  392.83   4.03\n",
            "3    0.03237   0.0   2.18     0  0.458  ...    3  222     18.7  394.63   2.94\n",
            "4    0.06905   0.0   2.18     0  0.458  ...    3  222     18.7  396.90   5.33\n",
            "..       ...   ...    ...   ...    ...  ...  ...  ...      ...     ...    ...\n",
            "447  0.06263   0.0  11.93     0  0.573  ...    1  273     21.0  391.99   9.67\n",
            "448  0.04527   0.0  11.93     0  0.573  ...    1  273     21.0  396.90   9.08\n",
            "449  0.06076   0.0  11.93     0  0.573  ...    1  273     21.0  396.90   5.64\n",
            "450  0.10959   0.0  11.93     0  0.573  ...    1  273     21.0  393.45   6.48\n",
            "451  0.04741   0.0  11.93     0  0.573  ...    1  273     21.0  396.90   7.88\n",
            "\n",
            "[452 rows x 13 columns]\n",
            "<class 'pandas.core.series.Series'>\n",
            "0      medium\n",
            "1      medium\n",
            "2        high\n",
            "3        high\n",
            "4        high\n",
            "        ...  \n",
            "447    medium\n",
            "448    medium\n",
            "449    medium\n",
            "450    medium\n",
            "451       low\n",
            "Name: investmentrisk, Length: 452, dtype: object\n",
            "<class 'numpy.ndarray'>\n",
            "<class 'numpy.ndarray'>\n"
          ],
          "name": "stdout"
        }
      ]
    },
    {
      "cell_type": "code",
      "metadata": {
        "id": "8z6XdDLH-_fV"
      },
      "source": [
        "#Data Splitting\n",
        "from sklearn.model_selection import train_test_split\n",
        "X_train, X_test, y_train, y_test = train_test_split(X_numpy, y_numpy, test_size=0.2, random_state=1)\n",
        "#X_train, X_val, y_train, y_val = train_test_split(X_train, y_train, test_size=0.2, random_state=1)\n"
      ],
      "execution_count": null,
      "outputs": []
    },
    {
      "cell_type": "code",
      "metadata": {
        "id": "e55tR1uC-_fW",
        "colab": {
          "base_uri": "https://localhost:8080/"
        },
        "outputId": "22ff464c-1b5c-40a5-9ed8-058a804c2e46"
      },
      "source": [
        "from sklearn.tree import DecisionTreeRegressor\n",
        "from sklearn.ensemble import RandomForestRegressor\n",
        "from sklearn.ensemble import RandomForestClassifier\n",
        "from sklearn.metrics import accuracy_score\n",
        "\n",
        "num_trees=5\n",
        "#dt_model = RandomForestRegressor(random_state=1, max_depth= 8, max_samples=300, max_features=6, n_estimators=num_trees)\n",
        "dt_model = RandomForestClassifier(random_state=1, max_depth= 12, max_samples=300, max_features=7, n_estimators=num_trees)\n",
        "\n",
        "\n",
        "\n",
        "#Fit RandomForestRegressor model\n",
        "dt_model.fit(X_train, y_train)\n",
        "\n",
        "print(\"Making predictions for the following in train set:\")\n",
        "predicted_values=dt_model.predict(X_train[0:10,:])\n",
        "true_values=y_train[0:10]\n",
        "print(\"True values are \",true_values)\n",
        "print(\"The predicted values are\", predicted_values)\n",
        "#print(\"Diff\", predicted_values-true_values)\n",
        "\n",
        "training_accuracy=accuracy_score(true_values, predicted_values, normalize=False)\n",
        "print(\"Accuracy Score in Training set\", training_accuracy)\n",
        "\n",
        "print(\"Making predictions for the following in testing set:\")\n",
        "predicted_values=dt_model.predict(X_test[0:10,:])\n",
        "true_values=y_test[0:10]\n",
        "print(\"True values are \",true_values)\n",
        "print(\"The predicted values are\", predicted_values)\n",
        "#print(\"Diff\", predicted_values-true_values)\n",
        "\n",
        "\n",
        "testing_accuracy=accuracy_score(true_values, predicted_values, normalize=False)\n",
        "print(\"Accuracy Score in Testing set\", testing_accuracy)"
      ],
      "execution_count": null,
      "outputs": [
        {
          "output_type": "stream",
          "text": [
            "Making predictions for the following in train set:\n",
            "True values are  ['medium' 'medium' 'low' 'medium' 'medium' 'medium' 'low' 'medium' 'low'\n",
            " 'medium']\n",
            "The predicted values are ['medium' 'medium' 'low' 'medium' 'medium' 'medium' 'low' 'medium' 'low'\n",
            " 'medium']\n",
            "Accuracy Score in Training set 10\n",
            "Making predictions for the following in testing set:\n",
            "True values are  ['medium' 'low' 'medium' 'high' 'medium' 'low' 'medium' 'low' 'medium'\n",
            " 'medium']\n",
            "The predicted values are ['low' 'low' 'medium' 'high' 'medium' 'low' 'medium' 'low' 'medium'\n",
            " 'medium']\n",
            "Accuracy Score in Testing set 9\n"
          ],
          "name": "stdout"
        }
      ]
    },
    {
      "cell_type": "code",
      "metadata": {
        "colab": {
          "base_uri": "https://localhost:8080/",
          "height": 563
        },
        "id": "mNtSCb7Ljk-S",
        "outputId": "0c9ac1e1-c8ea-4a81-b41a-8779b9731cac"
      },
      "source": [
        "#Plot confusion matrix\n",
        "import matplotlib.pyplot as plt\n",
        "from sklearn.metrics import plot_confusion_matrix\n",
        "from sklearn.metrics import confusion_matrix\n",
        "\n",
        "#Plot the confusion matrix for training data, include numbers in the plot\n",
        "plot_confusion_matrix(dt_model, X_train, y_train, values_format=\"d\")\n",
        "\n",
        "#Plot the confusion matrix for testing data, include numbers in the plot\n",
        "plot_confusion_matrix(dt_model, X_test, y_test)"
      ],
      "execution_count": null,
      "outputs": [
        {
          "output_type": "execute_result",
          "data": {
            "text/plain": [
              "<sklearn.metrics._plot.confusion_matrix.ConfusionMatrixDisplay at 0x7f7fdb7b2ed0>"
            ]
          },
          "metadata": {
            "tags": []
          },
          "execution_count": 32
        },
        {
          "output_type": "display_data",
          "data": {
            "image/png": "[encoded data removed]",
            "text/plain": [
              "<Figure size 432x288 with 2 Axes>"
            ]
          },
          "metadata": {
            "tags": [],
            "needs_background": "light"
          }
        },
        {
          "output_type": "display_data",
          "data": {
            "image/png": "[encoded data removed]",
            "text/plain": [
              "<Figure size 432x288 with 2 Axes>"
            ]
          },
          "metadata": {
            "tags": [],
            "needs_background": "light"
          }
        }
      ]
    },
    {
      "cell_type": "code",
      "metadata": {
        "colab": {
          "base_uri": "https://localhost:8080/",
          "height": 559
        },
        "id": "omX-SRi0PBFw",
        "outputId": "e5db9d45-aa0a-4b17-e9c6-4263aa970521"
      },
      "source": [
        "#Plot confusion matrix\n",
        "import matplotlib.pyplot as plt\n",
        "from sklearn.metrics import plot_confusion_matrix\n",
        "from sklearn.metrics import confusion_matrix\n",
        "\n",
        "#Plot the confusion matrix for training data using percentage\n",
        "plot_confusion_matrix(dt_model, X_train, y_train, normalize=\"all\")\n",
        "\n",
        "#Plot the confusion matrix for testing data using percentage\n",
        "plot_confusion_matrix(dt_model, X_test, y_test,normalize=\"all\")\n"
      ],
      "execution_count": null,
      "outputs": [
        {
          "output_type": "execute_result",
          "data": {
            "text/plain": [
              "<sklearn.metrics._plot.confusion_matrix.ConfusionMatrixDisplay at 0x7f7fdbec2090>"
            ]
          },
          "metadata": {
            "tags": []
          },
          "execution_count": 25
        },
        {
          "output_type": "display_data",
          "data": {
            "image/png": "[encoded data removed]",
            "text/plain": [
              "<Figure size 432x288 with 2 Axes>"
            ]
          },
          "metadata": {
            "tags": [],
            "needs_background": "light"
          }
        },
        {
          "output_type": "display_data",
          "data": {
            "image/png": "[encoded data removed]",
            "text/plain": [
              "<Figure size 432x288 with 2 Axes>"
            ]
          },
          "metadata": {
            "tags": [],
            "needs_background": "light"
          }
        }
      ]
    },
    {
      "cell_type": "code",
      "metadata": {
        "colab": {
          "base_uri": "https://localhost:8080/"
        },
        "id": "j6z5hWa1lKKJ",
        "outputId": "530b4c8c-2beb-49cd-81d2-99a45ce410dc"
      },
      "source": [
        "# Average training error\n",
        "training_accuracy=accuracy_score(y_train,dt_model.predict(X_train))\n",
        "print(\"Average Train accuracy \", training_accuracy)\n",
        "\n",
        "testing_accuracy=accuracy_score(y_test,dt_model.predict(X_test))\n",
        "print(\"Average Testing accuracy \", testing_accuracy)"
      ],
      "execution_count": null,
      "outputs": [
        {
          "output_type": "stream",
          "text": [
            "Average Train accuracy  0.9833795013850416\n",
            "Average Testing accuracy  0.7472527472527473\n"
          ],
          "name": "stdout"
        }
      ]
    },
    {
      "cell_type": "code",
      "metadata": {
        "id": "ezwYSeT8-_fZ"
      },
      "source": [
        "from sklearn.tree import export_graphviz\n",
        "# Export as dot file\n",
        "\n",
        "fn=independent_variables\n",
        "\n",
        "for index in range(0, num_trees):\n",
        "    export_graphviz(dt_model.estimators_[index], out_file='tree'+str(index)+'_.dot', \n",
        "                feature_names = fn, \n",
        "                rounded = True, proportion = False, \n",
        "                precision = 2, filled = True)"
      ],
      "execution_count": null,
      "outputs": []
    }
  ]
}