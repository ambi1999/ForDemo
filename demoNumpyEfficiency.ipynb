{
 "cells": [
  {
   "cell_type": "markdown",
   "id": "d4b8929f-925c-42df-b57c-602657ec46cf",
   "metadata": {},
   "source": [
    "Author: Dr Ambikesh Jayal\n",
    "    ambi1999@gmail.com\n",
    "Demo code to show the efficiency of NumPy which is \n",
    "a scientific computing package in Python.\n",
    "\n",
    "Created on Wed May 12 2021\n",
    "\n",
    "Output oexecuting this program on my computer is below. As you can see the function processUsingNumpy takes far less time than the function processUsingDataFrame. Both function do the same task.\n",
    "\n",
    "Function 'processUsingNumpy' starts executing\n",
    "Function 'processUsingNumpy' has finished execution. \n",
    "Execution time equals to 799.1797924041748 millisecondss\n",
    "\n",
    "Function 'processUsingDataFrame' starts executing\n",
    "Function 'processUsingDataFrame' has finished execution. \n",
    "Execution time equals to 15878.308773040771 millisecondss"
   ]
  },
  {
   "cell_type": "code",
   "execution_count": 1,
   "id": "9c64a096-2dd0-483c-be2b-66a1f0906a62",
   "metadata": {},
   "outputs": [
    {
     "name": "stdout",
     "output_type": "stream",
     "text": [
      "Function 'processUsingNumpy' starts executing\n",
      "Function 'processUsingNumpy' has finished execution. \n",
      "Execution time equals to 799.1797924041748 millisecondss\n",
      "Function 'processUsingDataFrame' starts executing\n",
      "Function 'processUsingDataFrame' has finished execution. \n",
      "Execution time equals to 15878.308773040771 millisecondss\n"
     ]
    }
   ],
   "source": [
    "# import pandas and numpy libraries\n",
    "import pandas as pd\n",
    "import numpy as np\n",
    "import time\n",
    "\n",
    "from functools import wraps\n",
    "def timer(func):\n",
    "    @wraps(func)\n",
    "    def wrapper(*args,**kwargs):\n",
    "        print(f\"Function {func.__name__!r} starts executing\")\n",
    "        startTime = time.time()\n",
    "        result = func(*args,**kwargs)\n",
    "        endTime=time.time()\n",
    "        #execution_time in milliseconds\n",
    "        executionTime=(endTime-startTime)*1000\n",
    "        #print(f\"{func.__name__!r} finished. Execution time (in ) in {time.time()-start_time} secs\")\n",
    "        print(f\"Function {func.__name__!r} has finished execution. \\nExecution time equals to {executionTime} millisecondss\")\n",
    "        return result\n",
    "    return wrapper\n",
    "\n",
    "\n",
    "def timer_simpler(func):\n",
    "    @wraps(func)\n",
    "    def wrapper(param1):\n",
    "        print(f\"Function {func.__name__!r} starts executing\")\n",
    "        startTime = time.time()\n",
    "        result = func(param1)\n",
    "        endTime=time.time()\n",
    "        #execution_time in milliseconds\n",
    "        executionTime=(endTime-startTime)*1000\n",
    "        #print(f\"{func.__name__!r} finished. Execution time (in ) in {time.time()-start_time} secs\")\n",
    "        print(f\"Function {func.__name__!r} has finished execution. \\nExecution time equals to {executionTime} millisecondss\")\n",
    "        return result\n",
    "    \n",
    "    return wrapper\n",
    "\n",
    "\n",
    "#@timer_simpler\n",
    "@timer\n",
    "def processUsingDataFrame(df):\n",
    "    min=df.min(axis=\"rows\").min()\n",
    "    max=df.max(axis=\"rows\").max()\n",
    "    average=df.mean(axis=\"rows\").mean()\n",
    "    return min,max,average\n",
    "\n",
    "#@timer_simpler\n",
    "@timer\n",
    "def processUsingNumpy(df):\n",
    "    #ndarray1=df.values\n",
    "    ndarray1=df.to_numpy()\n",
    "    min=ndarray1.min(axis=1).min()\n",
    "    max=ndarray1.max(axis=1).max()\n",
    "    average=ndarray1.mean(axis=1).mean()\n",
    "    return min,max,average\n",
    "\n",
    "\n",
    "#arrayrandomnumbers= np.random.randint(1,1000,10)\n",
    "#array2d=arrayrandomnumbers.reshape(2,-1)\n",
    "\n",
    "#Generate a large array of random numbers, convert it into multidimensional array using numpy reshape\n",
    "#arrayrandomnumbers= np.random.randint(1,100000000,20000000)\n",
    "arrayrandomnumbers= np.random.randint(1,10000000000,200000000)\n",
    "array2d=arrayrandomnumbers.reshape(100,-1)\n",
    "\n",
    "\n",
    "df=pd.DataFrame(array2d)\n",
    "#ndarray1=df11.values\n",
    "#ndarray2=df11.to_numpy()\n",
    "res1=processUsingNumpy(df)\n",
    "res2=processUsingDataFrame(df)\n",
    "\n"
   ]
  },
  {
   "cell_type": "code",
   "execution_count": null,
   "id": "8998dc4d-2e18-4cfb-a72c-33beb2b92260",
   "metadata": {},
   "outputs": [],
   "source": []
  }
 ],
 "metadata": {
  "kernelspec": {
   "display_name": "Python 3",
   "language": "python",
   "name": "python3"
  },
  "language_info": {
   "codemirror_mode": {
    "name": "ipython",
    "version": 3
   },
   "file_extension": ".py",
   "mimetype": "text/x-python",
   "name": "python",
   "nbconvert_exporter": "python",
   "pygments_lexer": "ipython3",
   "version": "3.8.5"
  }
 },
 "nbformat": 4,
 "nbformat_minor": 5
}
